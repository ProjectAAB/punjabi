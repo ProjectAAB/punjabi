{
  "nbformat": 4,
  "nbformat_minor": 0,
  "metadata": {
    "kernelspec": {
      "display_name": "Python 3",
      "language": "python",
      "name": "python3"
    },
    "language_info": {
      "codemirror_mode": {
        "name": "ipython",
        "version": 3
      },
      "file_extension": ".py",
      "mimetype": "text/x-python",
      "name": "python",
      "nbconvert_exporter": "python",
      "pygments_lexer": "ipython3",
      "version": "3.8.2"
    },
    "colab": {
      "name": "PY_Functions- తెలుగు హిందవి 2021.9 నోట్బుక్",
      "provenance": [],
      "collapsed_sections": [
        "yYc5p2xhYS7i",
        "T-Qua1WBEtvM"
      ]
    }
  },
  "cells": [
    {
      "cell_type": "markdown",
      "metadata": {
        "id": "p294gsLmfrBa"
      },
      "source": [
        "# **హిందవి ప్రస్తారణ వ్యవస్థ** 2021.9 \n",
        "\n",
        "Hindawi Programming System 2021.9<br>\n",
        "Copyright (C) 2004-2021 Abhishek Choudhary, <br>\n",
        "AyeSPL license. NO WARRANTY.\n"
      ]
    },
    {
      "cell_type": "code",
      "metadata": {
        "cellView": "form",
        "id": "2j7vnoOIix8Q",
        "outputId": "050aff37-7f16-4773-a4ca-91a5308bb2c2",
        "colab": {
          "base_uri": "https://localhost:8080/",
          "height": 53
        }
      },
      "source": [
        "#@title Click on the button below\n",
        "%%html\n",
        "<a target=”_blank” href=\"https://colab.research.google.com/github/srija-ieee/chintamani/blob/master/Notebooks/PY_Functions_%E0%B0%A4%E0%B1%86%E0%B0%B2%E0%B1%81%E0%B0%97%E0%B1%81_%E0%B0%B9%E0%B0%BF%E0%B0%82%E0%B0%A6%E0%B0%B5%E0%B0%BF_2021_9_%E0%B0%A8%E0%B1%8B%E0%B0%9F%E0%B1%8D%E0%B0%AC%E0%B1%81%E0%B0%95%E0%B1%8D.ipynb\"><img src=\"https://colab.research.google.com/assets/colab-badge.svg\" alt=\"Open In Colab\" style=\"height:32px; width:160px;\"></a>\n"
      ],
      "execution_count": 1,
      "outputs": [
        {
          "output_type": "display_data",
          "data": {
            "text/html": [
              "<a target=”_blank” href=\"https://colab.research.google.com/github/srija-ieee/chintamani/blob/master/Notebooks/PY_Functions_%E0%B0%A4%E0%B1%86%E0%B0%B2%E0%B1%81%E0%B0%97%E0%B1%81_%E0%B0%B9%E0%B0%BF%E0%B0%82%E0%B0%A6%E0%B0%B5%E0%B0%BF_2021_9_%E0%B0%A8%E0%B1%8B%E0%B0%9F%E0%B1%8D%E0%B0%AC%E0%B1%81%E0%B0%95%E0%B1%8D.ipynb\"><img src=\"https://colab.research.google.com/assets/colab-badge.svg\" alt=\"Open In Colab\" style=\"height:32px; width:160px;\"></a>"
            ],
            "text/plain": [
              "<IPython.core.display.HTML object>"
            ]
          },
          "metadata": {}
        }
      ]
    },
    {
      "cell_type": "code",
      "metadata": {
        "cellView": "form",
        "id": "rqjkjOFXjEeg",
        "outputId": "478730a0-b68c-443c-c77c-5a45905991ae",
        "colab": {
          "base_uri": "https://localhost:8080/",
          "height": 53
        }
      },
      "source": [
        "#@title Click on the button below\n",
        "%%html\n",
        "<a target=”_blank” href=\"https://mybinder.org/v2/gh/srija-ieee/chintamani/master/?filepath=Notebooks/PY_Functions_%E0%B0%A4%E0%B1%86%E0%B0%B2%E0%B1%81%E0%B0%97%E0%B1%81_%E0%B0%B9%E0%B0%BF%E0%B0%82%E0%B0%A6%E0%B0%B5%E0%B0%BF_2021_9_%E0%B0%A8%E0%B1%8B%E0%B0%9F%E0%B1%8D%E0%B0%AC%E0%B1%81%E0%B0%95%E0%B1%8D.ipynb\"><img src=\"https://mybinder.org/badge_logo.svg\" alt=\"Open In Colab\" style=\"height:32px; width:160px;\"></a>\n",
        "\n"
      ],
      "execution_count": 2,
      "outputs": [
        {
          "output_type": "display_data",
          "data": {
            "text/html": [
              "<a target=”_blank” href=\"https://mybinder.org/v2/gh/srija-ieee/chintamani/master/?filepath=Notebooks/PY_Functions_%E0%B0%A4%E0%B1%86%E0%B0%B2%E0%B1%81%E0%B0%97%E0%B1%81_%E0%B0%B9%E0%B0%BF%E0%B0%82%E0%B0%A6%E0%B0%B5%E0%B0%BF_2021_9_%E0%B0%A8%E0%B1%8B%E0%B0%9F%E0%B1%8D%E0%B0%AC%E0%B1%81%E0%B0%95%E0%B1%8D.ipynb\"><img src=\"https://mybinder.org/badge_logo.svg\" alt=\"Open In Colab\" style=\"height:32px; width:160px;\"></a>\n"
            ],
            "text/plain": [
              "<IPython.core.display.HTML object>"
            ]
          },
          "metadata": {}
        }
      ]
    },
    {
      "cell_type": "markdown",
      "metadata": {
        "id": "XDYyLPCa1mzY"
      },
      "source": [
        "# తెలుగు హిందవి నోట్‌బుక్ పరిచయం\n",
        "# Introduction to Telugu Hindawi Notebook\n"
      ]
    },
    {
      "cell_type": "code",
      "metadata": {
        "colab": {
          "base_uri": "https://localhost:8080/",
          "height": 335
        },
        "id": "zrmDTStc57gQ",
        "outputId": "d1378653-8629-4c75-bb68-6d9712928e89"
      },
      "source": [
        "\n",
        "#@markdown ###### **👈🏾 వీడియో ప్రదర్శించడానికి ప్లే బటన్ (▶) పై క్లిక్ చేయండి 👈🏾**<br>\n",
        "\n",
        "%%html\n",
        "<iframe width=\"560\" height=\"315\" src=\"https://www.youtube.com/embed/4PmQGMq3Kao?rel=0&modestbranding=1&hl=te&autoplay=1&origin=https://colab.research.google.com\" title=\"YouTube video player\" frameborder=\"0\" allow=\"accelerometer; autoplay; clipboard-write; encrypted-media; gyroscope; picture-in-picture\" allowfullscreen></iframe>"
      ],
      "execution_count": null,
      "outputs": [
        {
          "output_type": "display_data",
          "data": {
            "text/html": [
              "<iframe width=\"560\" height=\"315\" src=\"https://www.youtube.com/embed/4PmQGMq3Kao?rel=0&modestbranding=1&hl=te&autoplay=1&origin=https://colab.research.google.com\" title=\"YouTube video player\" frameborder=\"0\" allow=\"accelerometer; autoplay; clipboard-write; encrypted-media; gyroscope; picture-in-picture\" allowfullscreen></iframe>"
            ],
            "text/plain": [
              "<IPython.core.display.HTML object>"
            ]
          },
          "metadata": {}
        }
      ]
    },
    {
      "cell_type": "markdown",
      "metadata": {
        "id": "T-Qua1WBEtvM"
      },
      "source": [
        "# సంస్థాపన(Initialize)\n",
        "\n",
        "ఇది హిందవిని నడపడానికి జూపిటర్ నోట్బుక్ వాతావరణాన్ని అనుమతిస్తుంది. నెమ్మదిగా ఉన్న సిస్టమ్‌లలో దీనికి కొన్ని నిమిషాలు పట్టవచ్చు. చాలా క్లౌడ్ పరిసరాలలో ఇది కొన్ని సెకన్లలో పూర్తవుతుంది.\n",
        "\n",
        "This enables Hindawi in the Jupyter notebook environment. It may take a few minutes on slower systems. On most cloud environments this completes in few seconds.\n",
        "\n",
        "👈 ఈ సెల్‌ని అమలు చేయడానికి ప్లే బటన్‌ని (▶) నొక్కండి"
      ]
    },
    {
      "cell_type": "code",
      "metadata": {
        "id": "fEf5G-CzMb3M",
        "colab": {
          "base_uri": "https://localhost:8080/"
        },
        "outputId": "2545f3de-6feb-46da-f961-439ec9fb1a41"
      },
      "source": [
        "#@title సంస్థాపన (Installation) { vertical-output: true }\n",
        "#@markdown 👈 ఈ సెల్‌ను ప్లే చేయడానికి బటన్‌ను ప్లే చేయండి (▶) నొక్కండి\n",
        "#@markdown <br>\n",
        "#@markdown ఇతర కణాలను ఉపయోగించటానికి ముందు ఇది కనీసం ఒక్కసారైనా అమలు చేయాలి\n",
        "#@markdown <br>\n",
        "#@markdown This must be run at least once before the other cells can be used\n",
        "%%shell\n",
        " \n",
        "#Installing prerequisites...\n",
        "printf \"ముందస్తు అవసరాలను ఇన్‌స్టాల్ చేస్తోంది ... \"\n",
        "sudo apt install gawk flex bison php-iconv screen &>/dev/null\n",
        "#Done\n",
        "echo \"పూర్తయింది\"\n",
        " \n",
        "printf \"Hindawi2020 రిపోజిటరీ క్లోన్ చేయబడుతోంది... \"\n",
        "git clone https://github.com/hindawiai/chintamani hindawi2020 &>/dev/null\n",
        "#Done\n",
        "echo \"పూర్తయింది\"\n",
        " \n",
        "if [ 0 -lt $(pip3 freeze | grep google.colab | wc -l) ]\n",
        "then\n",
        "  #Executing preamble for non-docker platforms...\n",
        "  echo \"ఉపోద్ఘాతాన్ని అమలు చేస్తోంది\"\n",
        "  cd hindawi2020\n",
        " \n",
        "  git checkout telugu\n",
        "\n",
        "  for n in Romenagri\\\n",
        "          Hindawi/guru Hindawi/hindrv Hindawi/kritrima Hindawi/praatha\\\n",
        "          Hindawi/shabda Hindawi/shraeni Hindawi/wyaaka Hindawi/yantra\\\n",
        "          Hindawi/others/fasm Hindawi/soochee;\n",
        "  do\n",
        "    pushd $n &>/dev/null\n",
        "    #Building in $n...\n",
        "    printf \"$n లో ప్రోగ్రామ్‌ను కంపైల్ చేస్తోంది ... \"\n",
        "    make all &>/dev/null\n",
        "    make install &>/dev/null\n",
        "    make clean_all &>/dev/null\n",
        "    #Done\n",
        "    echo \"పూర్తయింది\"\n",
        "    popd &>/dev/null\n",
        "  done\n",
        "  #Completed preamble for non-docker platforms.\n",
        "  echo \"ముందుమాట పూర్తయింది\"\n",
        "fi\n",
        "#TBD: APCISR not built"
      ],
      "execution_count": null,
      "outputs": [
        {
          "output_type": "stream",
          "name": "stdout",
          "text": [
            "ముందస్తు అవసరాలను ఇన్‌స్టాల్ చేస్తోంది ... పూర్తయింది\n",
            "Hindawi2020 రిపోజిటరీ క్లోన్ చేయబడుతోంది... పూర్తయింది\n",
            "ఉపోద్ఘాతాన్ని అమలు చేస్తోంది\n",
            "Branch 'telugu' set up to track remote branch 'telugu' from 'origin'.\n",
            "Switched to a new branch 'telugu'\n",
            "Romenagri లో ప్రోగ్రామ్‌ను కంపైల్ చేస్తోంది ... పూర్తయింది\n",
            "Hindawi/guru లో ప్రోగ్రామ్‌ను కంపైల్ చేస్తోంది ... పూర్తయింది\n",
            "Hindawi/hindrv లో ప్రోగ్రామ్‌ను కంపైల్ చేస్తోంది ... పూర్తయింది\n",
            "Hindawi/kritrima లో ప్రోగ్రామ్‌ను కంపైల్ చేస్తోంది ... పూర్తయింది\n",
            "Hindawi/praatha లో ప్రోగ్రామ్‌ను కంపైల్ చేస్తోంది ... పూర్తయింది\n",
            "Hindawi/shabda లో ప్రోగ్రామ్‌ను కంపైల్ చేస్తోంది ... పూర్తయింది\n",
            "Hindawi/shraeni లో ప్రోగ్రామ్‌ను కంపైల్ చేస్తోంది ... పూర్తయింది\n",
            "Hindawi/wyaaka లో ప్రోగ్రామ్‌ను కంపైల్ చేస్తోంది ... పూర్తయింది\n",
            "Hindawi/yantra లో ప్రోగ్రామ్‌ను కంపైల్ చేస్తోంది ... పూర్తయింది\n",
            "Hindawi/others/fasm లో ప్రోగ్రామ్‌ను కంపైల్ చేస్తోంది ... పూర్తయింది\n",
            "Hindawi/soochee లో ప్రోగ్రామ్‌ను కంపైల్ చేస్తోంది ... పూర్తయింది\n",
            "ముందుమాట పూర్తయింది\n"
          ]
        },
        {
          "output_type": "execute_result",
          "data": {
            "text/plain": [
              ""
            ]
          },
          "metadata": {},
          "execution_count": 1
        }
      ]
    },
    {
      "cell_type": "markdown",
      "metadata": {
        "id": "L6aQqaL9LFad"
      },
      "source": [
        "# విధులు\n",
        "# Functions"
      ]
    },
    {
      "cell_type": "markdown",
      "metadata": {
        "id": "0GHh6DaKOqIH"
      },
      "source": [
        "# సాధన ప్రాంతం (Practice Area)\n"
      ]
    },
    {
      "cell_type": "markdown",
      "metadata": {
        "id": "ClxxcGTXVyyx"
      },
      "source": [
        "# తెలుగులో ఉదాహరణ\n",
        "# Example in Telugu"
      ]
    },
    {
      "cell_type": "code",
      "metadata": {
        "id": "oncZi3KCI66q",
        "colab": {
          "base_uri": "https://localhost:8080/"
        },
        "outputId": "bb9e8f7a-8e1b-4e72-9d9f-eb3d7c81cdc7"
      },
      "source": [
        "#@title **తెలుగు పైథాన్ యొక్క ప్రోగ్రామ్ ఎడిటింగ్(program editing)**\n",
        "#@markdown సవరించడానికి డబుల్ క్లిక్ చేయండి లేదా __enter__ నొక్కండి\n",
        "#@markdown <br>\n",
        "#@markdown Double-click or press __Enter__ to edit\n",
        "%%writefile hindawi2020/Hindawi/soochee/myPY.uhin\n",
        "# విధులు:\n",
        "# విధులు ఒక నిర్దిష్ట పనిని చేసే ఉప కార్యక్రమాలు\n",
        "# సంఖ్య కోసం గుణకార పట్టికను ముద్రించడానికి ఒక ఫంక్షన్‌ను ప్రకటించండి\n",
        "నిర్వచించు tableOf(paramA):\n",
        "  # పట్టికను ముద్రించడానికి \"పరిధి\" తో \"కోసం\" లూప్ ఉపయోగించండి\n",
        "  కోసం multiplicమరియు లో range(1,11):\n",
        "    ముద్రించు(paramA,\"x\",multiplicమరియు,'=',myVar * multiplicమరియు)\n",
        "\n",
        "# VarCond 0 కంటే ఎక్కువగా ఉన్నప్పుడు లూప్ చేయండి\n",
        "varCond = 1\n",
        "అయిత varCond > 0:\n",
        "  # నంబర్‌ను నమోదు చేయమని వినియోగదారుని అడగండి\n",
        "  myVar = లోt(లోput(\"గుణకార పట్టికను ముద్రించడానికి ఒక సంఖ్యను నమోదు చేయండి (నిష్క్రమించడానికి <0):\"))\n",
        "\n",
        "  # ఫంక్షన్‌కు కాల్ చేయడం అంటే ఫంక్షన్ యొక్క బాడీని \"ఎగ్జిక్యూట్ చేయడం\"\n",
        "  ఉంటే myVar > 0:\n",
        "    tableOf(myVar)\n",
        "\n",
        "  varCond = myVar\n"
      ],
      "execution_count": null,
      "outputs": [
        {
          "output_type": "stream",
          "name": "stdout",
          "text": [
            "Writing hindawi2020/Hindawi/soochee/myPY.uhin\n"
          ]
        }
      ]
    },
    {
      "cell_type": "code",
      "metadata": {
        "id": "aqKdrMVSI_D1",
        "colab": {
          "base_uri": "https://localhost:8080/",
          "height": 776
        },
        "outputId": "a8529b87-e690-4449-a800-7f932f8c90cc"
      },
      "source": [
        "%%shell\n",
        "#@title ### **స్టైల్ ప్రైమరీ యొక్క ప్రోగ్రామ్ ఎగ్జిక్యూషన్(program execution)**\n",
        "#@markdown ### ఈ నోట్బుక్ యొక్క ఫైల్ బ్రౌజర్ ఉపయోగించి కంపైల్డ్ ప్రోగ్రామ్ను డౌన్‌లోడ్ చేసుకోవచ్చు. ఫైల్ hin.exe\n",
        "#@markdown <br>\n",
        "#Do not edit below this line\n",
        "#ఈ పంక్తి క్రింద సవరించవద్దు\n",
        "cd hindawi2020/Hindawi/soochee/\n",
        "./hinpy myPY.uhin"
      ],
      "execution_count": null,
      "outputs": [
        {
          "output_type": "stream",
          "name": "stdout",
          "text": [
            "గుణకార పట్టికను ముద్రించడానికి ఒక సంఖ్యను నమోదు చేయండి (నిష్క్రమించడానికి <0):9\n",
            "9 x 1 = 9\n",
            "9 x 2 = 18\n",
            "9 x 3 = 27\n",
            "9 x 4 = 36\n",
            "9 x 5 = 45\n",
            "9 x 6 = 54\n",
            "9 x 7 = 63\n",
            "9 x 8 = 72\n",
            "9 x 9 = 81\n",
            "9 x 10 = 90\n",
            "గుణకార పట్టికను ముద్రించడానికి ఒక సంఖ్యను నమోదు చేయండి (నిష్క్రమించడానికి <0):r\n",
            "Traceback (most recent call last):\n",
            "  File \"hintmp.py\", line 14, in <module>\n",
            "    myVar = int(input(\"గుణకార పట్టికను ముద్రించడానికి ఒక సంఖ్యను నమోదు చేయండి (నిష్క్రమించడానికి <0):\"))\n",
            "ValueError: invalid literal for int() with base 10: 'r'\n"
          ]
        },
        {
          "output_type": "error",
          "ename": "CalledProcessError",
          "evalue": "ignored",
          "traceback": [
            "\u001b[0;31m---------------------------------------------------------------------------\u001b[0m",
            "\u001b[0;31mCalledProcessError\u001b[0m                        Traceback (most recent call last)",
            "\u001b[0;32m<ipython-input-3-b80cd73d35ae>\u001b[0m in \u001b[0;36m<module>\u001b[0;34m()\u001b[0m\n\u001b[0;32m----> 1\u001b[0;31m \u001b[0mget_ipython\u001b[0m\u001b[0;34m(\u001b[0m\u001b[0;34m)\u001b[0m\u001b[0;34m.\u001b[0m\u001b[0mrun_cell_magic\u001b[0m\u001b[0;34m(\u001b[0m\u001b[0;34m'shell'\u001b[0m\u001b[0;34m,\u001b[0m \u001b[0;34m''\u001b[0m\u001b[0;34m,\u001b[0m \u001b[0;34m'#@title ### **స్టైల్ ప్రైమరీ యొక్క ప్రోగ్రామ్ ఎగ్జిక్యూషన్(program execution)**\\n#@markdown ### ఈ నోట్బుక్ యొక్క ఫైల్ బ్రౌజర్ ఉపయోగించి కంపైల్డ్ ప్రోగ్రామ్ను డౌన్\\u200cలోడ్ చేసుకోవచ్చు. ఫైల్ hin.exe\\n#@markdown <br>\\n#Do not edit below this line\\n#ఈ పంక్తి క్రింద సవరించవద్దు\\ncd hindawi2020/Hindawi/soochee/\\n./hinpy myPY.uhin'\u001b[0m\u001b[0;34m)\u001b[0m\u001b[0;34m\u001b[0m\u001b[0;34m\u001b[0m\u001b[0m\n\u001b[0m",
            "\u001b[0;32m/usr/local/lib/python3.7/dist-packages/IPython/core/interactiveshell.py\u001b[0m in \u001b[0;36mrun_cell_magic\u001b[0;34m(self, magic_name, line, cell)\u001b[0m\n\u001b[1;32m   2115\u001b[0m             \u001b[0mmagic_arg_s\u001b[0m \u001b[0;34m=\u001b[0m \u001b[0mself\u001b[0m\u001b[0;34m.\u001b[0m\u001b[0mvar_expand\u001b[0m\u001b[0;34m(\u001b[0m\u001b[0mline\u001b[0m\u001b[0;34m,\u001b[0m \u001b[0mstack_depth\u001b[0m\u001b[0;34m)\u001b[0m\u001b[0;34m\u001b[0m\u001b[0;34m\u001b[0m\u001b[0m\n\u001b[1;32m   2116\u001b[0m             \u001b[0;32mwith\u001b[0m \u001b[0mself\u001b[0m\u001b[0;34m.\u001b[0m\u001b[0mbuiltin_trap\u001b[0m\u001b[0;34m:\u001b[0m\u001b[0;34m\u001b[0m\u001b[0;34m\u001b[0m\u001b[0m\n\u001b[0;32m-> 2117\u001b[0;31m                 \u001b[0mresult\u001b[0m \u001b[0;34m=\u001b[0m \u001b[0mfn\u001b[0m\u001b[0;34m(\u001b[0m\u001b[0mmagic_arg_s\u001b[0m\u001b[0;34m,\u001b[0m \u001b[0mcell\u001b[0m\u001b[0;34m)\u001b[0m\u001b[0;34m\u001b[0m\u001b[0;34m\u001b[0m\u001b[0m\n\u001b[0m\u001b[1;32m   2118\u001b[0m             \u001b[0;32mreturn\u001b[0m \u001b[0mresult\u001b[0m\u001b[0;34m\u001b[0m\u001b[0;34m\u001b[0m\u001b[0m\n\u001b[1;32m   2119\u001b[0m \u001b[0;34m\u001b[0m\u001b[0m\n",
            "\u001b[0;32m/usr/local/lib/python3.7/dist-packages/google/colab/_system_commands.py\u001b[0m in \u001b[0;36m_shell_cell_magic\u001b[0;34m(args, cmd)\u001b[0m\n\u001b[1;32m    111\u001b[0m   \u001b[0mresult\u001b[0m \u001b[0;34m=\u001b[0m \u001b[0m_run_command\u001b[0m\u001b[0;34m(\u001b[0m\u001b[0mcmd\u001b[0m\u001b[0;34m,\u001b[0m \u001b[0mclear_streamed_output\u001b[0m\u001b[0;34m=\u001b[0m\u001b[0;32mFalse\u001b[0m\u001b[0;34m)\u001b[0m\u001b[0;34m\u001b[0m\u001b[0;34m\u001b[0m\u001b[0m\n\u001b[1;32m    112\u001b[0m   \u001b[0;32mif\u001b[0m \u001b[0;32mnot\u001b[0m \u001b[0mparsed_args\u001b[0m\u001b[0;34m.\u001b[0m\u001b[0mignore_errors\u001b[0m\u001b[0;34m:\u001b[0m\u001b[0;34m\u001b[0m\u001b[0;34m\u001b[0m\u001b[0m\n\u001b[0;32m--> 113\u001b[0;31m     \u001b[0mresult\u001b[0m\u001b[0;34m.\u001b[0m\u001b[0mcheck_returncode\u001b[0m\u001b[0;34m(\u001b[0m\u001b[0;34m)\u001b[0m\u001b[0;34m\u001b[0m\u001b[0;34m\u001b[0m\u001b[0m\n\u001b[0m\u001b[1;32m    114\u001b[0m   \u001b[0;32mreturn\u001b[0m \u001b[0mresult\u001b[0m\u001b[0;34m\u001b[0m\u001b[0;34m\u001b[0m\u001b[0m\n\u001b[1;32m    115\u001b[0m \u001b[0;34m\u001b[0m\u001b[0m\n",
            "\u001b[0;32m/usr/local/lib/python3.7/dist-packages/google/colab/_system_commands.py\u001b[0m in \u001b[0;36mcheck_returncode\u001b[0;34m(self)\u001b[0m\n\u001b[1;32m    137\u001b[0m     \u001b[0;32mif\u001b[0m \u001b[0mself\u001b[0m\u001b[0;34m.\u001b[0m\u001b[0mreturncode\u001b[0m\u001b[0;34m:\u001b[0m\u001b[0;34m\u001b[0m\u001b[0;34m\u001b[0m\u001b[0m\n\u001b[1;32m    138\u001b[0m       raise subprocess.CalledProcessError(\n\u001b[0;32m--> 139\u001b[0;31m           returncode=self.returncode, cmd=self.args, output=self.output)\n\u001b[0m\u001b[1;32m    140\u001b[0m \u001b[0;34m\u001b[0m\u001b[0m\n\u001b[1;32m    141\u001b[0m   \u001b[0;32mdef\u001b[0m \u001b[0m_repr_pretty_\u001b[0m\u001b[0;34m(\u001b[0m\u001b[0mself\u001b[0m\u001b[0;34m,\u001b[0m \u001b[0mp\u001b[0m\u001b[0;34m,\u001b[0m \u001b[0mcycle\u001b[0m\u001b[0;34m)\u001b[0m\u001b[0;34m:\u001b[0m  \u001b[0;31m# pylint:disable=unused-argument\u001b[0m\u001b[0;34m\u001b[0m\u001b[0;34m\u001b[0m\u001b[0m\n",
            "\u001b[0;31mCalledProcessError\u001b[0m: Command '#@title ### **స్టైల్ ప్రైమరీ యొక్క ప్రోగ్రామ్ ఎగ్జిక్యూషన్(program execution)**\n#@markdown ### ఈ నోట్బుక్ యొక్క ఫైల్ బ్రౌజర్ ఉపయోగించి కంపైల్డ్ ప్రోగ్రామ్ను డౌన్‌లోడ్ చేసుకోవచ్చు. ఫైల్ hin.exe\n#@markdown <br>\n#Do not edit below this line\n#ఈ పంక్తి క్రింద సవరించవద్దు\ncd hindawi2020/Hindawi/soochee/\n./hinpy myPY.uhin' returned non-zero exit status 1."
          ]
        }
      ]
    },
    {
      "cell_type": "markdown",
      "metadata": {
        "id": "7Inj4SWFV3DK"
      },
      "source": [
        "# ఆంగ్లంలో ఉదాహరణ (సూచన కోసం)\n",
        "# Example in English (for Ref)"
      ]
    },
    {
      "cell_type": "code",
      "metadata": {
        "colab": {
          "base_uri": "https://localhost:8080/"
        },
        "id": "47QF5pNmJgpM",
        "outputId": "ed00a061-87e5-4040-a5ff-836e2d2e2d78"
      },
      "source": [
        "#@title **తెలుగు పైథాన్ యొక్క ప్రోగ్రామ్ ఎడిటింగ్(program editing)**\n",
        "#@markdown సవరించడానికి డబుల్ క్లిక్ చేయండి లేదా __enter__ నొక్కండి\n",
        "#@markdown <br>\n",
        "#@markdown Double-click or press __Enter__ to edit\n",
        "%%writefile hindawi2020/Hindawi/soochee/myPY.uhin\n",
        "# write the program here, below this line \n",
        "# Functions:\n",
        "# Functions are sub-programs that perform a certain task\n",
        "\n",
        "# Declare a function to print the multiplication table for a number\n",
        "def tableOf(paramA):\n",
        "  # Use a \"for\" loop with \"range\" to print the table\n",
        "  for multiplicand in range(1,11):\n",
        "    print(paramA,\"x\",multiplicand,'=',myVar * multiplicand)\n",
        "\n",
        "# Loop while varCond is greater than 0\n",
        "varCond = 1\n",
        "while varCond > 0:\n",
        "  # Ask user to enter a number\n",
        "  myVar = int(input(\"Enter a number to print multiplication table (<0 to exit):\"))\n",
        "\n",
        "  # Calling a function means \"executing\" the body of the function\n",
        "  if myVar > 0:\n",
        "    tableOf(myVar)\n",
        "\n",
        "  varCond = myVar\n"
      ],
      "execution_count": null,
      "outputs": [
        {
          "output_type": "stream",
          "name": "stdout",
          "text": [
            "Overwriting hindawi2020/Hindawi/soochee/myPY.uhin\n"
          ]
        }
      ]
    },
    {
      "cell_type": "code",
      "metadata": {
        "colab": {
          "base_uri": "https://localhost:8080/"
        },
        "id": "qoCVGZ2tKNW3",
        "outputId": "b61338af-7159-47c1-c89d-ed5d9e5ed786"
      },
      "source": [
        "%%shell\n",
        "#@title ### **స్టైల్ ప్రైమరీ యొక్క ప్రోగ్రామ్ ఎగ్జిక్యూషన్(program execution)**\n",
        "#@markdown ### ఈ నోట్బుక్ యొక్క ఫైల్ బ్రౌజర్ ఉపయోగించి కంపైల్డ్ ప్రోగ్రామ్ను డౌన్‌లోడ్ చేసుకోవచ్చు. ఫైల్ hin.exe\n",
        "#@markdown <br>\n",
        "#Do not edit below this line\n",
        "#ఈ పంక్తి క్రింద సవరించవద్దు\n",
        "cd hindawi2020/Hindawi/soochee/\n",
        "./hinpy myPY.uhin"
      ],
      "execution_count": null,
      "outputs": [
        {
          "output_type": "stream",
          "name": "stdout",
          "text": [
            "Enter a number to print multiplication table (<0 to exit):"
          ]
        }
      ]
    },
    {
      "cell_type": "markdown",
      "metadata": {
        "id": "6QS2pUvxx0-v"
      },
      "source": [
        "\n",
        "# [Click Here](https://colab.research.google.com/drive/1y1d9xgRD-Epj3PHFHTdpDdPNsZjbbmJc?usp=sharing) for the Next lesson (Import the display clearing function)\n",
        "\n",
        "#తదుపరి పాఠం కోసం (డిస్‌ప్లే క్లియరింగ్ ఫంక్షన్‌ను దిగుమతి చేయండి)[ ఇక్కడ క్లిక్ ](https://colab.research.google.com/drive/1y1d9xgRD-Epj3PHFHTdpDdPNsZjbbmJc?usp=sharing)చేయండి "
      ]
    },
    {
      "cell_type": "markdown",
      "metadata": {
        "id": "R_33KyYql-pO"
      },
      "source": [
        "# తెలుగులో పైథాన్‌పై కోర్సు (Course on Python in Telugu)"
      ]
    },
    {
      "cell_type": "code",
      "metadata": {
        "id": "MlYgJf4_l2uZ"
      },
      "source": [
        "#@title ఇక్కడ నమోదు చేసుకోండి (Enroll here)\n",
        "\n",
        "## Lesson\n",
        "#@markdown ###### **👈🏾 కంటెంట్ ప్రదర్శించడానికి ప్లే బటన్ (▶) పై క్లిక్ చేయండి 👈🏾**<br>\n",
        "#@markdown ##### దయచేసి మీ Gmail ఉపయోగించి తదుపరి సెల్‌లో పొందుపరిచిన కోర్సులో నమోదు చేసుకోండి\n",
        "\n",
        "#@markdown ###### **👈🏾 Click on ( ▶ ) the play button to display content 👈🏾**<br>\n",
        "#@markdown ##### Please register on the course embedded in the next cell using your Gmail \n",
        "from IPython.display import IFrame\n",
        "\n",
        "IFrame('https://ayeai.xyz/site/','1000','800')"
      ],
      "execution_count": null,
      "outputs": []
    }
  ]
}
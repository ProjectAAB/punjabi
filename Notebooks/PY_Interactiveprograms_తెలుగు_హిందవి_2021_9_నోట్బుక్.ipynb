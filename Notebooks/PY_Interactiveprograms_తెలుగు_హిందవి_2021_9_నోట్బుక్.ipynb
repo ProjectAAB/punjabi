{
  "nbformat": 4,
  "nbformat_minor": 0,
  "metadata": {
    "colab": {
      "name": "PY_Interactiveprograms- తెలుగు హిందవి 2021.9 నోట్బుక్",
      "provenance": [],
      "collapsed_sections": [
        "T-Qua1WBEtvM"
      ],
      "toc_visible": true
    },
    "kernelspec": {
      "display_name": "Python 3",
      "language": "python",
      "name": "python3"
    },
    "language_info": {
      "codemirror_mode": {
        "name": "ipython",
        "version": 3
      },
      "file_extension": ".py",
      "mimetype": "text/x-python",
      "name": "python",
      "nbconvert_exporter": "python",
      "pygments_lexer": "ipython3",
      "version": "3.8.2"
    }
  },
  "cells": [
    {
      "cell_type": "markdown",
      "metadata": {
        "id": "p294gsLmfrBa"
      },
      "source": [
        "# **హిందవి ప్రస్తారణ వ్యవస్థ** 2021.9 \n",
        "\n",
        "Hindawi Programming System 2021.9<br>\n",
        "Copyright (C) 2004-2021 Abhishek Choudhary, <br>\n",
        "AyeSPL license. NO WARRANTY.\n"
      ]
    },
    {
      "cell_type": "markdown",
      "metadata": {
        "id": "XDYyLPCa1mzY"
      },
      "source": [
        "# తెలుగు హిందవి నోట్‌బుక్ పరిచయం\n",
        "# Introduction to Telugu Hindawi Notebook\n"
      ]
    },
    {
      "cell_type": "code",
      "metadata": {
        "colab": {
          "base_uri": "https://localhost:8080/",
          "height": 336
        },
        "id": "zrmDTStc57gQ",
        "cellView": "form",
        "outputId": "978feaa8-ebe8-475a-9d33-c2ee321b21cc"
      },
      "source": [
        "\n",
        "#@markdown ###### **👈🏾 వీడియో ప్రదర్శించడానికి ప్లే బటన్ (▶) పై క్లిక్ చేయండి 👈🏾**<br>\n",
        "\n",
        "%%html\n",
        "<iframe width=\"560\" height=\"315\" src=\"https://www.youtube.com/embed/xYNXY8eWCsw?rel=0&modestbranding=1&hl=te&autoplay=1&origin=https://colab.research.google.com\" title=\"YouTube video player\" frameborder=\"0\" allow=\"accelerometer; autoplay; clipboard-write; encrypted-media; gyroscope; picture-in-picture\" allowfullscreen></iframe>"
      ],
      "execution_count": null,
      "outputs": [
        {
          "output_type": "display_data",
          "data": {
            "text/html": [
              "<iframe width=\"560\" height=\"315\" src=\"https://www.youtube.com/embed/xYNXY8eWCsw?rel=0&modestbranding=1&hl=te&autoplay=1&origin=https://colab.research.google.com\" title=\"YouTube video player\" frameborder=\"0\" allow=\"accelerometer; autoplay; clipboard-write; encrypted-media; gyroscope; picture-in-picture\" allowfullscreen></iframe>"
            ],
            "text/plain": [
              "<IPython.core.display.HTML object>"
            ]
          },
          "metadata": {}
        }
      ]
    },
    {
      "cell_type": "markdown",
      "metadata": {
        "id": "sVP3glqaqX6a"
      },
      "source": [
        "## ఈ నోట్‌బుక్‌ను అమలు చేయడానికి క్రింది బ్యూటన్‌లలో ఒకదానిపై క్లిక్ చేయండి\n",
        "To run this notebook click on one of the buittons below<br>\n",
        "[![Open In Colab](https://colab.research.google.com/assets/colab-badge.svg)](https://colab.research.google.com/github/hindawiai/chintamani/blob/master/Notebooks/PY_Interactiveprograms_తెలుగు_హిందవి_2021_9_నోట్బుక్.ipynb)\n",
        "[![Binder](https://mybinder.org/badge_logo.svg)](https://mybinder.org/v2/gh/hindawiai/chintamani/master?filepath=Notebooks%2FPY_Interactiveprograms_తెలుగు_హిందవి_2021_9_నోట్బుక్.ipynb)"
      ]
    },
    {
      "cell_type": "markdown",
      "metadata": {
        "id": "l9KTz6CKBxQ0"
      },
      "source": [
        "#🎯 హిందీపై పరిచయం(Introduction to Hindawi)\n",
        "**హిందవి ప్రోగ్రామింగ్ సిస్టమ్ మాతృభాషలో ప్రాధమిక స్థాయి నుండి గేట్ కంప్యూటర్ ఇంజనీరింగ్ ([GATE CSE](https://gate.iitb.ac.in/syllabi.php)) స్థాయి వరకు ప్రోగ్రామింగ్‌ను అనుమతిస్తుంది. సూపర్ కంప్యూటింగ్ [సూపర్కంప్యూటింగ్](https://hi.wikipedia.org/wiki/%E0%A4%AE%E0%A4%B9%E0%A4%BE%E0%A4%B8%E0%A4%82%E0%A4%97%E0%A4%A3%E0%A4%95) (HPC),  ఐఒటి(IoT), క్వాంటం కంప్యూటింగ్ మరియు డిఎన్‌ఎ కంప్యూటింగ్  ([DNA computing](https://en.wikipedia.org/wiki/DNA_computing)) పరిశోధన మరియు ప్రోగ్రామింగ్ కూడా హిందవి ఉపయోగించి మాతృభాషలో సాధ్యమే. ఇది కల కాదు - ఇది నిజం!  దీన్ని ఇప్పుడు ఆన్‌లైన్‌లో ధృవీకరించండి. రండి సాంకేతిక విభజన(digital divide), అభిజ్ఞా విభజన (cognitive divide - మాతృభాషను ఉపయోగించి AI ని అభివృద్ధి చేయలేకపోవడం) లేదా భాషా విభజన (linguistic divide) లేకుండా సాంకేతిక ఏకవచన (technical singularity) ప్రయాణాన్ని పూర్తి చేద్దాం. \n",
        "\n",
        "**డిస్క్లైమర్ **: హిందవి ప్రోగ్రామింగ్ సిస్టమ్ యొక్క పరిపూర్ణతకు సూచనగా మాత్రమే గేట్ ప్రస్తావించబడింది. గేట్ పరీక్షల నిర్వాహణతో మాకు ఎటువంటి సంబంధం లేదు. 2021 వరకు గేట్ సిఎస్ఇ ప్రోగ్రామింగ్ భాషల ప్రామాణిక వైవిధ్యాలను మాత్రమే ఉపయోగిస్తుంది మరియు తెలుగు వెర్షన్ కాదు. ఈ యుటిలిటీ రచయితలచే బాహ్య లింక్‌లు నియంత్రించబడవు."
      ]
    },
    {
      "cell_type": "markdown",
      "metadata": {
        "id": "TotQPz4JB6wF"
      },
      "source": [
        "Hindawi Programming System makes programming feasible in mother tongue from primary levels to GATE Computer Engineering level. Research and programming is feasible using Hindawi in supercomputing, IoT, robotics, artificial intelligence, quantum computing and also DNA computing is possible in mother tongue. This is not a dream - its a reality! Verify it online right now. Lets approach the technological singularity without any digital divide, cognitive divide (inability of developing AI using mother tongue), or linguistic divide.\n",
        "\n",
        "Disclaimer: GATE is only mentioned with reference to the completeness of Hindawi Programming System. We are not associated with conduct of the GATE examinations. As of 2021 GATE CSE only uses the standard forms of the programming languages and not the Hindi version. External links are not controlled by the authors of this utility."
      ]
    },
    {
      "cell_type": "markdown",
      "metadata": {
        "id": "T-Qua1WBEtvM"
      },
      "source": [
        "# ▶️ సంస్థాపన(Initialize)\n",
        "\n",
        "ఇది హిందవిని నడపడానికి జూపిటర్ నోట్బుక్ వాతావరణాన్ని అనుమతిస్తుంది. నెమ్మదిగా ఉన్న సిస్టమ్‌లలో దీనికి కొన్ని నిమిషాలు పట్టవచ్చు. చాలా క్లౌడ్ పరిసరాలలో ఇది కొన్ని సెకన్లలో పూర్తవుతుంది.\n",
        "\n",
        "This enables Hindawi in the Jupyter notebook environment. It may take a few minutes on slower systems. On most cloud environments this completes in few seconds.\n",
        "\n",
        "👈 ఈ సెల్‌ని అమలు చేయడానికి ప్లే బటన్‌ని (▶) నొక్కండి"
      ]
    },
    {
      "cell_type": "code",
      "metadata": {
        "colab": {
          "base_uri": "https://localhost:8080/"
        },
        "id": "fEf5G-CzMb3M",
        "cellView": "form",
        "outputId": "a3d9ccdd-1493-478a-fccf-f66d7227014a"
      },
      "source": [
        "#@title సంస్థాపన (Installation) { vertical-output: true }\n",
        "#@markdown 👈 ఈ సెల్‌ను ప్లే చేయడానికి బటన్‌ను ప్లే చేయండి (▶) నొక్కండి\n",
        "#@markdown <br>\n",
        "#@markdown ఇతర కణాలను ఉపయోగించటానికి ముందు ఇది కనీసం ఒక్కసారైనా అమలు చేయాలి\n",
        "#@markdown <br>\n",
        "#@markdown This must be run at least once before the other cells can be used\n",
        "%%shell\n",
        " \n",
        "#Installing prerequisites...\n",
        "printf \"ముందస్తు అవసరాలను ఇన్‌స్టాల్ చేస్తోంది ... \"\n",
        "sudo apt install gawk flex bison php-iconv screen &>/dev/null\n",
        "#Done\n",
        "echo \"పూర్తయింది\"\n",
        " \n",
        "printf \"Hindawi2020 రిపోజిటరీ క్లోన్ చేయబడుతోంది... \"\n",
        "git clone https://github.com/hindawiai/chintamani hindawi2020 &>/dev/null\n",
        "#Done\n",
        "echo \"పూర్తయింది\"\n",
        " \n",
        "if [ 0 -lt $(pip3 freeze | grep google.colab | wc -l) ]\n",
        "then\n",
        "  #Executing preamble for non-docker platforms...\n",
        "  echo \"ఉపోద్ఘాతాన్ని అమలు చేస్తోంది\"\n",
        "  cd hindawi2020\n",
        " \n",
        "  git checkout telugu\n",
        "\n",
        "  for n in Romenagri\\\n",
        "          Hindawi/guru Hindawi/hindrv Hindawi/kritrima Hindawi/praatha\\\n",
        "          Hindawi/shabda Hindawi/shraeni Hindawi/wyaaka Hindawi/yantra\\\n",
        "          Hindawi/others/fasm Hindawi/soochee;\n",
        "  do\n",
        "    pushd $n &>/dev/null\n",
        "    #Building in $n...\n",
        "    printf \"$n లో ప్రోగ్రామ్‌ను కంపైల్ చేస్తోంది ... \"\n",
        "    make all &>/dev/null\n",
        "    make install &>/dev/null\n",
        "    make clean_all &>/dev/null\n",
        "    #Done\n",
        "    echo \"పూర్తయింది\"\n",
        "    popd &>/dev/null\n",
        "  done\n",
        "  #Completed preamble for non-docker platforms.\n",
        "  echo \"ముందుమాట పూర్తయింది\"\n",
        "fi\n",
        "#TBD: APCISR not built"
      ],
      "execution_count": null,
      "outputs": [
        {
          "output_type": "stream",
          "name": "stdout",
          "text": [
            "ముందస్తు అవసరాలను ఇన్‌స్టాల్ చేస్తోంది ... పూర్తయింది\n",
            "Hindawi2020 రిపోజిటరీ క్లోన్ చేయబడుతోంది... పూర్తయింది\n",
            "ఉపోద్ఘాతాన్ని అమలు చేస్తోంది\n",
            "Branch 'telugu' set up to track remote branch 'telugu' from 'origin'.\n",
            "Switched to a new branch 'telugu'\n",
            "Romenagri లో ప్రోగ్రామ్‌ను కంపైల్ చేస్తోంది ... పూర్తయింది\n",
            "Hindawi/guru లో ప్రోగ్రామ్‌ను కంపైల్ చేస్తోంది ... పూర్తయింది\n",
            "Hindawi/hindrv లో ప్రోగ్రామ్‌ను కంపైల్ చేస్తోంది ... పూర్తయింది\n",
            "Hindawi/kritrima లో ప్రోగ్రామ్‌ను కంపైల్ చేస్తోంది ... పూర్తయింది\n",
            "Hindawi/praatha లో ప్రోగ్రామ్‌ను కంపైల్ చేస్తోంది ... పూర్తయింది\n",
            "Hindawi/shabda లో ప్రోగ్రామ్‌ను కంపైల్ చేస్తోంది ... పూర్తయింది\n",
            "Hindawi/shraeni లో ప్రోగ్రామ్‌ను కంపైల్ చేస్తోంది ... పూర్తయింది\n",
            "Hindawi/wyaaka లో ప్రోగ్రామ్‌ను కంపైల్ చేస్తోంది ... పూర్తయింది\n",
            "Hindawi/yantra లో ప్రోగ్రామ్‌ను కంపైల్ చేస్తోంది ... పూర్తయింది\n",
            "Hindawi/others/fasm లో ప్రోగ్రామ్‌ను కంపైల్ చేస్తోంది ... పూర్తయింది\n",
            "Hindawi/soochee లో ప్రోగ్రామ్‌ను కంపైల్ చేస్తోంది ... పూర్తయింది\n",
            "ముందుమాట పూర్తయింది\n"
          ]
        },
        {
          "output_type": "execute_result",
          "data": {
            "text/plain": [
              ""
            ]
          },
          "metadata": {},
          "execution_count": 2
        }
      ]
    },
    {
      "cell_type": "markdown",
      "metadata": {
        "id": "0GHh6DaKOqIH"
      },
      "source": [
        "#📍 సాధన ప్రాంతం (Practice Area)\n"
      ]
    },
    {
      "cell_type": "markdown",
      "metadata": {
        "id": "L6aQqaL9LFad"
      },
      "source": [
        "# 📚 పాఠం - ఇంటరాక్టివ్ ప్రోగ్రామ్‌లు\n",
        "# Lesson - Interactive Programs"
      ]
    },
    {
      "cell_type": "markdown",
      "metadata": {
        "id": "WfjcsvDdNMVb"
      },
      "source": [
        "# తెలుగులో ఉదాహరణ\n",
        "# Example in Telugu"
      ]
    },
    {
      "cell_type": "code",
      "metadata": {
        "colab": {
          "base_uri": "https://localhost:8080/"
        },
        "id": "WULQeim5Mi4s",
        "cellView": "form",
        "outputId": "298cc139-984a-4b9e-877d-72925eed1212"
      },
      "source": [
        "#@title ✏️ **తెలుగు పైథాన్ యొక్క ప్రోగ్రామ్ ఎడిటింగ్(program editing)**\n",
        "#@markdown సవరించడానికి డబుల్ క్లిక్ చేయండి లేదా __enter__ నొక్కండి\n",
        "#@markdown <br>\n",
        "#@markdown Double-click or press __Enter__ to edit\n",
        "%%writefile hindawi2020/Hindawi/soochee/myPY.uhin\n",
        "# ఇంటరాక్టివ్ కార్యక్రమాలు:\n",
        "# ఇంటరాక్టివ్ ప్రోగ్రామ్‌లు కంట్రోల్ చేయడానికి రన్‌టైమ్‌లో యూజర్ నుండి ఇన్‌పుట్ తీసుకుంటాయి\n",
        "# కార్యక్రమం యొక్క ప్రవాహం మరియు ఫలితాలు\n",
        "# నంబర్‌ను నమోదు చేయమని వినియోగదారుని అడగండి\n",
        "క = లోt(లోput(\"10 కంటే ఎక్కువ సంఖ్యను నమోదు చేయండి:\"))\n",
        "\n",
        "#క 10 కంటే ఎక్కువగా ఉంటే \"అవును\" అని ముద్రించండి, లేకపోతే \"లేదు\" అని ముద్రించండి\"\n",
        "ఉంటే క > 10:\n",
        "  ముద్రించు(\"అవును\")\n",
        "వేరే:\n",
        "  ముద్రించు(\"లేదు\")\n"
      ],
      "execution_count": null,
      "outputs": [
        {
          "output_type": "stream",
          "name": "stdout",
          "text": [
            "Writing hindawi2020/Hindawi/soochee/myPY.uhin\n"
          ]
        }
      ]
    },
    {
      "cell_type": "code",
      "metadata": {
        "colab": {
          "base_uri": "https://localhost:8080/"
        },
        "id": "cBmjHF6rMma2",
        "cellView": "form",
        "outputId": "6d622d8a-f796-4e97-fa74-a53b6134967c"
      },
      "source": [
        "%%shell\n",
        "#@title ### 🖥️ **స్టైల్ ప్రైమరీ యొక్క ప్రోగ్రామ్ ఎగ్జిక్యూషన్(program execution)**\n",
        "#@markdown ### ఈ నోట్బుక్ యొక్క ఫైల్ బ్రౌజర్ ఉపయోగించి కంపైల్డ్ ప్రోగ్రామ్ను డౌన్‌లోడ్ చేసుకోవచ్చు. ఫైల్ myPY.uhin\n",
        "#@markdown <br>\n",
        "#Do not edit below this line\n",
        "#ఈ పంక్తి క్రింద సవరించవద్దు\n",
        "cd hindawi2020/Hindawi/soochee/\n",
        "./hinpy myPY.uhin"
      ],
      "execution_count": null,
      "outputs": [
        {
          "output_type": "stream",
          "name": "stdout",
          "text": [
            "10 కంటే ఎక్కువ సంఖ్యను నమోదు చేయండి:4\n",
            "లేదు\n"
          ]
        },
        {
          "output_type": "execute_result",
          "data": {
            "text/plain": [
              ""
            ]
          },
          "metadata": {},
          "execution_count": 4
        }
      ]
    },
    {
      "cell_type": "markdown",
      "metadata": {
        "id": "G-aNOKL8NSio"
      },
      "source": [
        "# ఆంగ్లంలో ఉదాహరణ (సూచన కోసం)\n",
        "# Example in English (for Reference)\n",
        "Programs in standard Python for cross checking, reference to Telugu based lessons and for learning English"
      ]
    },
    {
      "cell_type": "code",
      "metadata": {
        "id": "26WRDI4LNSKU"
      },
      "source": [
        ""
      ],
      "execution_count": null,
      "outputs": []
    },
    {
      "cell_type": "code",
      "metadata": {
        "colab": {
          "base_uri": "https://localhost:8080/"
        },
        "id": "47QF5pNmJgpM",
        "cellView": "form",
        "outputId": "48f1bf09-0feb-4167-cee1-7aa92023809f"
      },
      "source": [
        "#@title ✏️ **తెలుగు పైథాన్ యొక్క ప్రోగ్రామ్ ఎడిటింగ్(program editing)**\n",
        "#@markdown సవరించడానికి డబుల్ క్లిక్ చేయండి లేదా __enter__ నొక్కండి\n",
        "#@markdown <br>\n",
        "#@markdown Double-click or press __Enter__ to edit\n",
        "%%writefile hindawi2020/Hindawi/soochee/myPY.uhin\n",
        "# write the program here, below this line \n",
        "# Interactive programs:\n",
        "# Interactive programs take input from user at runtime to control\n",
        "# the flow and results of the program\n",
        "\n",
        "# Ask user to enter a number\n",
        "varCond = int(input(\"Enter a number greater than 10:\"))\n",
        "\n",
        "# If varCond is greater than 10 then print \"Yes\" else print \"No\"\n",
        "if varCond > 10:\n",
        "  print(\"yes\")\n",
        "else:\n",
        "  print(\"no\")\n"
      ],
      "execution_count": null,
      "outputs": [
        {
          "output_type": "stream",
          "name": "stdout",
          "text": [
            "Overwriting hindawi2020/Hindawi/soochee/myPY.uhin\n"
          ]
        }
      ]
    },
    {
      "cell_type": "code",
      "metadata": {
        "colab": {
          "base_uri": "https://localhost:8080/"
        },
        "id": "qoCVGZ2tKNW3",
        "cellView": "form",
        "outputId": "28b417b4-c065-4826-a0ba-3f06add55240"
      },
      "source": [
        "%%shell\n",
        "#@title ### 🖥️ **స్టైల్ ప్రైమరీ యొక్క ప్రోగ్రామ్ ఎగ్జిక్యూషన్(program execution)**\n",
        "#@markdown ### ఈ నోట్బుక్ యొక్క ఫైల్ బ్రౌజర్ ఉపయోగించి కంపైల్డ్ ప్రోగ్రామ్ను డౌన్‌లోడ్ చేసుకోవచ్చు. ఫైల్ hin.exe\n",
        "#@markdown <br>\n",
        "#Do not edit below this line\n",
        "#ఈ పంక్తి క్రింద సవరించవద్దు\n",
        "cd hindawi2020/Hindawi/soochee/\n",
        "./hinpy myPY.uhin"
      ],
      "execution_count": null,
      "outputs": [
        {
          "output_type": "stream",
          "name": "stdout",
          "text": [
            "Enter a number greater than 10:-1\n",
            "no\n"
          ]
        },
        {
          "output_type": "execute_result",
          "data": {
            "text/plain": [
              ""
            ]
          },
          "metadata": {},
          "execution_count": 6
        }
      ]
    },
    {
      "cell_type": "markdown",
      "metadata": {
        "id": "R_33KyYql-pO"
      },
      "source": [
        "#👩‍🏫🏫 తెలుగులో పైథాన్‌లో పూర్తి కోర్సు కోసం ఇక్కడ నమోదు చేయండి\n",
        "# Enroll here for full course on Python in Telugu"
      ]
    },
    {
      "cell_type": "code",
      "metadata": {
        "id": "MlYgJf4_l2uZ",
        "colab": {
          "base_uri": "https://localhost:8080/",
          "height": 841
        },
        "cellView": "form",
        "outputId": "5190f6d8-1197-44fd-fc1c-9c7b2a4d790d"
      },
      "source": [
        "#@title ఇక్కడ నమోదు చేసుకోండి (Enroll here)\n",
        "\n",
        "## Lesson\n",
        "#@markdown ###### **👈🏾 కంటెంట్ ప్రదర్శించడానికి ప్లే బటన్ (▶) పై క్లిక్ చేయండి 👈🏾**<br>\n",
        "#@markdown ##### దయచేసి మీ Gmail ఉపయోగించి తదుపరి సెల్‌లో పొందుపరిచిన కోర్సులో నమోదు చేసుకోండి\n",
        "\n",
        "#@markdown ###### **👈🏾 Click on ( ▶ ) the play button to display content 👈🏾**<br>\n",
        "#@markdown ##### Please register on the course embedded in the next cell using your Gmail \n",
        "from IPython.display import IFrame\n",
        "\n",
        "IFrame('https://ayeai.xyz/site/','1000','800')"
      ],
      "execution_count": null,
      "outputs": [
        {
          "output_type": "execute_result",
          "data": {
            "text/html": [
              "\n",
              "        <iframe\n",
              "            width=\"1000\"\n",
              "            height=\"800\"\n",
              "            src=\"https://ayeai.xyz/site/\"\n",
              "            frameborder=\"0\"\n",
              "            allowfullscreen\n",
              "        ></iframe>\n",
              "        "
            ],
            "text/plain": [
              "<IPython.lib.display.IFrame at 0x7f89f2aeb910>"
            ]
          },
          "metadata": {},
          "execution_count": 1
        }
      ]
    }
  ]
}
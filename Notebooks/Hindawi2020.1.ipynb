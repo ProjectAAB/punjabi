{
 "cells": [
  {
   "cell_type": "markdown",
   "metadata": {},
   "source": [
    "# Hindawi 2020.1\n",
    "\n",
    "Hindawi 2020.1 is the first release of Hindawi Programming System based on IPython (Jupyter) Notebooks\n",
    "(C) Copyright 2020 Abhishek Choudhary, \n",
    "Released on GNU GPL v2 license\n",
    "\n",
    "## Environment (details to be updated)\n",
    "### On a Ubuntu 18.04 LTS or later host\n",
    "Note: You can use the \"free\" ubuntu VMs available on Google Cloud, Azure Cloud, AWS etc.\n",
    "```bash\n",
    "mkdir ~/hinwork\n",
    "cd ~/hinwork\n",
    "sudo apt update && sudo apt install docker.io\n",
    "sudo groupadd docker && sudo usermod -aG docker ${USER}\n",
    "docker pull ayeai/hindawi\n",
    "killall screen\n",
    "docker stop hindawi\n",
    "docker rm hindawi\n",
    "screen -dmS hindawi docker run -v $(pwd):/home/hindawi/work -p 80:80 -p 8888:8888 --name hindawi -u hindawi -w /home/hindawi -it ayeai/hindawi bash\n",
    "printf \"Waiting for container \\\"hindawi\\\"... \"; while [ $(docker ps | grep hindawi | wc -l) -lt 1 ]; do printf .; sleep 1; done; echo Container \"hindawi\" started\n",
    "docker exec -w /home/hindawi/work hindawi cp -r ~/hindawi2020/Hindawi/samples/ ./\n",
    "# Hindi BASIC\n",
    "docker exec -w /home/hindawi/work hindawi hincc samples/HindiBASIC.uhin\n",
    "docker exec -w /home/hindawi/work -it hindawi bash -c 'echo 5 | ./hin.exe'\n",
    "# Hindi C\n",
    "docker exec -w /home/hindawi/work hindawi hincc samples/HindiC.uhin\n",
    "docker exec -w /home/hindawi/work -it hindawi bash -c 'printf \"hindawi\\n5\\n\" | ./hin.exe'\n",
    "# Hindi C++\n",
    "docker exec -w /home/hindawi/work hindawi hincc samples/HindiC++.uhin\n",
    "docker exec -w /home/hindawi/work -it hindawi ./hin.exe\n",
    "# Hindi Assembly (x86)\n",
    "docker exec -w /home/hindawi/work hindawi hincc samples/HindiASM.uhin\n",
    "docker exec -w /home/hindawi/work -it hindawi ./hin.exe\n",
    "# Hindi LEX\n",
    "docker exec -w /home/hindawi/work hindawi hincc samples/HindiLEX.uhin\n",
    "docker exec -w /home/hindawi/work -it hindawi bash -c 'printf \"abbbba\\n\" | ./hin.exe'\n",
    "# Hindi YACC\n",
    "docker exec -w /home/hindawi/work hindawi hincc samples/HindiYACC.uhin\n",
    "docker exec -w /home/hindawi/work -it hindawi bash -c 'printf \"(2+3)/4-1\\n\" | ./hin.exe'\n",
    "```\n",
    "TBD: Need to add jupyter-notebook into the hindawi image\n",
    "Start jupyter server as\n",
    "jupyter-notebook --no-browser --ip=0.0.0.0 --port=8888\n",
    "Add this notebook to github\n",
    "\n",
    "### On [play with docker](https://labs.play-with-docker.com/)\n",
    "```bash\n",
    "docker pull ayeai/hindawi\n",
    "docker run -v $(pwd):/home/hindawi/work -p 80:80 -p 8888:8888 --name hindawi -u hindawi -w /home/hindawi -it ayeai/hindawi bash\n",
    "```\n",
    "\n",
    "### On [Google Colab](https://colab.research.google.com/)\n",
    "TBD: Exact steps\n",
    "\n"
   ]
  },
  {
   "cell_type": "code",
   "execution_count": null,
   "metadata": {
    "scrolled": false
   },
   "outputs": [],
   "source": [
    "%%writefile myBASIC.uhin\n",
    "पूछो \"ऊँचाई: \", न\n",
    "लिखो न\n",
    "क्रम क = १ से न\n",
    "    क्रम ख = १ से (न - क)\n",
    "        लिखो \" \";\n",
    "    क्रमांत ख\n",
    "    क्रम ग = १ से क\n",
    "        लिखो \"&\";\n",
    "    क्रमांत ग\n",
    "    लिखो \"\"\n",
    "क्रमांत क\n",
    "क्रम क = (न - १) से १ गति -१\n",
    "    क्रम ख = १ से (न - क)\n",
    "        लिखो \" \";\n",
    "    क्रमांत ख\n",
    "    क्रम ग = १ से क\n",
    "        लिखो \"&\";\n",
    "    क्रमांत ग\n",
    "    लिखो \"\"\n",
    "क्रमांत क\n",
    "इति\n"
   ]
  },
  {
   "cell_type": "code",
   "execution_count": null,
   "metadata": {},
   "outputs": [],
   "source": [
    "%%writefile inpBASIC.txt\n",
    "5\n"
   ]
  },
  {
   "cell_type": "code",
   "execution_count": null,
   "metadata": {},
   "outputs": [],
   "source": [
    "%%bash\n",
    "\n",
    "#Do not edit below this line\n",
    "hincc myBASIC.uhin\n",
    "cat inpBASIC.txt | ./hin.exe\n"
   ]
  },
  {
   "cell_type": "code",
   "execution_count": null,
   "metadata": {},
   "outputs": [],
   "source": [
    "%%writefile myC.uhin\n",
    "<शैली गुरु>\n",
    "#समावेश <मानकपन.स>\n",
    "\n",
    "पूर्णांक मुख्य()\n",
    "{\n",
    "    अक्षर अ[८०];\n",
    "    पूर्णांक क;\n",
    "    म_लिखो(\"आपका नाम क्या है?\\n\");\n",
    "    म_पूछो(\"%s\",अ);\n",
    "    म_लिखो(\"नमस्ते %s.\\n\",अ);\n",
    "    क्रम(क=1; क<=10; क++)\n",
    "        म_लिखो(\"%d\\n\",क);\n",
    "    वापस 0;\n",
    "}\n"
   ]
  },
  {
   "cell_type": "code",
   "execution_count": null,
   "metadata": {},
   "outputs": [],
   "source": [
    "%%writefile inpC.txt\n",
    "राकेष\n"
   ]
  },
  {
   "cell_type": "code",
   "execution_count": null,
   "metadata": {},
   "outputs": [],
   "source": [
    "%%bash\n",
    "\n",
    "hincc myC.uhin\n",
    "cat inpC.txt | ./hin.exe\n"
   ]
  },
  {
   "cell_type": "code",
   "execution_count": null,
   "metadata": {},
   "outputs": [],
   "source": [
    "%%writefile myC++.uhin\n",
    "<शैली श्रेणी>\n",
    "#समावेश <मानकपन.स>\n",
    "\n",
    "श्रेणी जानवर\n",
    "{\n",
    "खुला:\n",
    "    भव व्योम लिखो()\n",
    "    {\n",
    "        म_लिखो(\"यह एक जानवर है।\\n\");\n",
    "    }\n",
    "};\n",
    "\n",
    "श्रेणी शेर : खुला जानवर\n",
    "{\n",
    "खुला:\n",
    "    व्योम लिखो()\n",
    "    {\n",
    "        म_लिखो(\"शेर एक जानवर है।\\n\");\n",
    "    }\n",
    "};\n",
    "\n",
    "श्रेणी चीता : खुला जानवर\n",
    "{\n",
    "खुला:\n",
    "    व्योम लिखो()\n",
    "    {\n",
    "        म_लिखो(\"चीता एक जानवर है।\\n\");\n",
    "    }\n",
    "};\n",
    "\n",
    "पूर्णांक मुख्य()\n",
    "{\n",
    "    जानवर ज, *ज१;\n",
    "    शेर श;\n",
    "    चीता च;\n",
    "\n",
    "    ज.लिखो();\n",
    "    श.लिखो();\n",
    "    च.लिखो();\n",
    "\n",
    "    ज१=&ज;\n",
    "    ज१->लिखो();\n",
    "    ज१=&श;\n",
    "    ज१->लिखो();\n",
    "    ज१=&च;\n",
    "    ज१->लिखो();\n",
    "\n",
    "    वापस 0;\n",
    "}\n"
   ]
  },
  {
   "cell_type": "code",
   "execution_count": null,
   "metadata": {},
   "outputs": [],
   "source": [
    "%%writefile inpC++.txt\n",
    "Enter inputs here, if any"
   ]
  },
  {
   "cell_type": "code",
   "execution_count": null,
   "metadata": {},
   "outputs": [],
   "source": [
    "%%bash\n",
    "#Do not edit below this line\n",
    "hincc myC++.uhin\n",
    "cat inpC++.txt | ./hin.exe\n"
   ]
  },
  {
   "cell_type": "code",
   "execution_count": null,
   "metadata": {},
   "outputs": [],
   "source": [
    "%%writefile myASM.uhin\n",
    "<शैली यांत्रिक>\n",
    "विधि ELF प्रयोग\n",
    "प्रथम मुख्य\n",
    "अखंड पाठक प्रयोग\n",
    "मुख्य:\n",
    "    डालो    बकक्ष,४\n",
    "    डालो    बखक्ष,१\n",
    "    डालो    बगक्ष,संदेश\n",
    "    डालो    बघक्ष,संदेश_माप\n",
    "    विघ्न    ०x८०\n",
    "    डालो    बकक्ष,1\n",
    "    अथवा    बखक्ष,बखक्ष\n",
    "    विघ्न  ०x८०\n",
    "अखंड पाठक लेखक\n",
    "संदेश तब \"सारे जहां से अच्छा हिंदोस्तां हमारा!\",०xA\n",
    "संदेश_माप = $-संदेश\n"
   ]
  },
  {
   "cell_type": "code",
   "execution_count": null,
   "metadata": {},
   "outputs": [],
   "source": [
    "%%writefile inpASM.txt\n",
    "Replace this with inputs\n"
   ]
  },
  {
   "cell_type": "code",
   "execution_count": null,
   "metadata": {},
   "outputs": [],
   "source": [
    "%%bash\n",
    "\n",
    "#Do not edit below this line\n",
    "hincc myASM.uhin\n",
    "cat inpASM.txt | ./hin.exe\n"
   ]
  },
  {
   "cell_type": "code",
   "execution_count": null,
   "metadata": {},
   "outputs": [],
   "source": [
    "%%writefile myLEX.uhin\n",
    "<शैली शब्द>\n",
    "%{\n",
    "%}\n",
    "%%\n",
    "\"अ\"a+\"अ\"    {म_लिखो(\"ओ\");}\n",
    "ab+a        {म_लिखो(\"ab*a\");}\n",
    "%%\n"
   ]
  },
  {
   "cell_type": "code",
   "execution_count": null,
   "metadata": {},
   "outputs": [],
   "source": [
    "%%writefile inpLEX.txt\n",
    "aba\n",
    "abba\n",
    "abbba\n"
   ]
  },
  {
   "cell_type": "code",
   "execution_count": null,
   "metadata": {},
   "outputs": [],
   "source": [
    "%%bash\n",
    "\n",
    "#Do not edit below this line\n",
    "hincc myLEX.uhin\n",
    "cat inpLEX.txt | ./hin.exe\n"
   ]
  },
  {
   "cell_type": "code",
   "execution_count": null,
   "metadata": {},
   "outputs": [],
   "source": [
    "%%writefile myYACC.uhin\n",
    "<शैली व्याक>\n",
    "%अणु\n",
    "#समावेश <प्रकार.स>\n",
    "#समावेश <मानकपन.स>\n",
    "#घोषणा व्याक_ढेर_प्रकार द्विगुन\n",
    "\n",
    "पूर्णांक व्याक_त्रुटि();\n",
    "पूर्णांक श_शब्द();\n",
    "\n",
    "%पूर्ण\n",
    "\n",
    "%मोहर अंक\n",
    "%बाँए '+' '-'\n",
    "%बाँए '*' '/'\n",
    "%बाँए '%'\n",
    "%दाँए घटा\n",
    "\n",
    "%%\n",
    "पंक्ति   : पंक्ति उक्ति '\\n'   { म_लिखो(\"%g \\n\", $2); }\n",
    "       | पंक्ति '\\n'\n",
    "       | /* ऐपसिलन */\n",
    "       ;\n",
    "उक्ति   : उक्ति '+' उक्ति    { $$ = $1 + $3; }\n",
    "       | उक्ति '-' उक्ति    { $$ = $1 - $3; }\n",
    "       | उक्ति '*' उक्ति    { $$ = $1 * $3; }\n",
    "       | उक्ति '/' उक्ति    { $$ = $1 / $3; }\n",
    "       | उक्ति '%' उक्ति    { $$ = (int)$1 % (int)$3; }\n",
    "       | '(' उक्ति ')'     { $$ = $2; }\n",
    "       | '-' उक्ति %प्राथमिकता घटा  { $$ = - $2; }\n",
    "       | '+' उक्ति %प्राथमिकता घटा  { $$ = $2; }\n",
    "       | अंक\n",
    "       ;\n",
    "%%\n",
    " \n",
    "पूर्णांक श_शब्द()\n",
    "अणु\n",
    "   पूर्णांक च;\n",
    "   जबतक ( ( च=अक्षर_लो() ) == ' ' );\n",
    "   अगर ( (च == '.') || (है_अंक(च)) )\n",
    "   अणु\n",
    "      अक्षर_वापस(च, मानक_निवेश);\n",
    "      म_पूछो(\"%lf\", &श_ब_मान);\n",
    "      वापस अंक;\n",
    "   पूर्ण\n",
    "   वापस च;\n",
    "पूर्ण\n",
    " \n",
    "पूर्णांक व्याक_त्रुटि()\n",
    "अणु\n",
    "   वापस 0;\n",
    "पूर्ण\n",
    " \n",
    "पूर्णांक मुख्य(पूर्णांक तस, अक्षर *तव[] )\n",
    "अणु\n",
    "   म_लिखो(\"हिंदवी कैल्क्यूलेटर\\n\");\n",
    "   म_लिखो(\"Copyright (C) 2005 Abhishek Choudhary\\n\");\n",
    "   म_लिखो(\"GNU GPL V2 license. NO WARRANTY.\\n\");\n",
    "   म_लिखो(\"आप 0 से 9, +, -, *, / और () का प्रयोग कर सकते हैं।\\n\");\n",
    "   व्याक();\n",
    "   वापस 0;\n",
    "पूर्ण\n"
   ]
  },
  {
   "cell_type": "code",
   "execution_count": null,
   "metadata": {},
   "outputs": [],
   "source": [
    "%%writefile inpYACC.txt\n",
    "(2+3)/4-1\n",
    "3/7"
   ]
  },
  {
   "cell_type": "code",
   "execution_count": null,
   "metadata": {},
   "outputs": [],
   "source": [
    "%%bash\n",
    "#Do not edit below this line\n",
    "hincc myYACC.uhin\n",
    "cat inpYACC.txt | ./hin.exe"
   ]
  },
  {
   "cell_type": "markdown",
   "metadata": {},
   "source": [
    "https://stackoverflow.com/questions/44604027/running-interactive-command-line-code-from-jupyter-notebook"
   ]
  }
 ],
 "metadata": {
  "kernelspec": {
   "display_name": "Python 3",
   "language": "python",
   "name": "python3"
  },
  "language_info": {
   "codemirror_mode": {
    "name": "ipython",
    "version": 3
   },
   "file_extension": ".py",
   "mimetype": "text/x-python",
   "name": "python",
   "nbconvert_exporter": "python",
   "pygments_lexer": "ipython3",
   "version": "3.8.2"
  }
 },
 "nbformat": 4,
 "nbformat_minor": 4
}

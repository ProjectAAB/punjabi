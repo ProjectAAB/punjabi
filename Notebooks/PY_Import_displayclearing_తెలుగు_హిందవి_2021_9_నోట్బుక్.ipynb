{
  "nbformat": 4,
  "nbformat_minor": 0,
  "metadata": {
    "kernelspec": {
      "display_name": "Python 3",
      "language": "python",
      "name": "python3"
    },
    "language_info": {
      "codemirror_mode": {
        "name": "ipython",
        "version": 3
      },
      "file_extension": ".py",
      "mimetype": "text/x-python",
      "name": "python",
      "nbconvert_exporter": "python",
      "pygments_lexer": "ipython3",
      "version": "3.8.2"
    },
    "colab": {
      "name": "PY_Import_displayclearing- తెలుగు హిందవి 2021.9 నోట్బుక్",
      "provenance": [],
      "collapsed_sections": [
        "yYc5p2xhYS7i",
        "T-Qua1WBEtvM"
      ]
    }
  },
  "cells": [
    {
      "cell_type": "markdown",
      "metadata": {
        "id": "p294gsLmfrBa"
      },
      "source": [
        "# **హిందవి ప్రస్తారణ వ్యవస్థ** 2021.9 \n",
        "\n",
        "Hindawi Programming System 2021.9<br>\n",
        "Copyright (C) 2004-2021 Abhishek Choudhary, <br>\n",
        "AyeSPL license. NO WARRANTY.\n"
      ]
    },
    {
      "cell_type": "markdown",
      "metadata": {
        "id": "2XOQEVKgjnaE"
      },
      "source": [
        "### ***ఈ నోట్‌బుక్‌ను అమలు చేయడానికి క్రింది బటన్‌లలో ఒకదానిపై  రైట్  క్లిక్ చేసి, న్యూ ట్యాబ్‌లో ఓపెన్ చేయండి***\n",
        "\n",
        "\n",
        "### ***To run this notebook right click on one of the buttons below and open in a new tab***"
      ]
    },
    {
      "cell_type": "code",
      "metadata": {
        "cellView": "form",
        "id": "E_w-TvZLjzGB",
        "outputId": "ae3cbdc4-f09a-4808-e6cf-9692ce1b97f4",
        "colab": {
          "base_uri": "https://localhost:8080/",
          "height": 53
        }
      },
      "source": [
        "#@title Click on the button below\n",
        "%%html\n",
        "<a target=”_blank” href=\"https://colab.research.google.com/github/srija-ieee/chintamani/blob/master/Notebooks/PY_Import_displayclearing_%E0%B0%A4%E0%B1%86%E0%B0%B2%E0%B1%81%E0%B0%97%E0%B1%81_%E0%B0%B9%E0%B0%BF%E0%B0%82%E0%B0%A6%E0%B0%B5%E0%B0%BF_2021_9_%E0%B0%A8%E0%B1%8B%E0%B0%9F%E0%B1%8D%E0%B0%AC%E0%B1%81%E0%B0%95%E0%B1%8D.ipynb\"><img src=\"https://colab.research.google.com/assets/colab-badge.svg\" alt=\"Open In Colab\" style=\"height:32px; width:160px;\"></a>\n",
        "\n"
      ],
      "execution_count": 1,
      "outputs": [
        {
          "output_type": "display_data",
          "data": {
            "text/html": [
              "<a target=”_blank” href=\"https://colab.research.google.com/github/srija-ieee/chintamani/blob/master/Notebooks/PY_Import_displayclearing_%E0%B0%A4%E0%B1%86%E0%B0%B2%E0%B1%81%E0%B0%97%E0%B1%81_%E0%B0%B9%E0%B0%BF%E0%B0%82%E0%B0%A6%E0%B0%B5%E0%B0%BF_2021_9_%E0%B0%A8%E0%B1%8B%E0%B0%9F%E0%B1%8D%E0%B0%AC%E0%B1%81%E0%B0%95%E0%B1%8D.ipynb\"><img src=\"https://colab.research.google.com/assets/colab-badge.svg\" alt=\"Open In Colab\" style=\"height:32px; width:160px;\"></a>\n"
            ],
            "text/plain": [
              "<IPython.core.display.HTML object>"
            ]
          },
          "metadata": {}
        }
      ]
    },
    {
      "cell_type": "code",
      "metadata": {
        "cellView": "form",
        "id": "1fzXGpx8kHQC",
        "outputId": "803e985f-c6c5-4294-f6e9-68b98da031dd",
        "colab": {
          "base_uri": "https://localhost:8080/",
          "height": 53
        }
      },
      "source": [
        "#@title Click on the button below\n",
        "%%html\n",
        "<a target=”_blank” href=\"https://mybinder.org/v2/gh/srija-ieee/chintamani/master/?filepath=Notebooks/PY_Import_displayclearing_%E0%B0%A4%E0%B1%86%E0%B0%B2%E0%B1%81%E0%B0%97%E0%B1%81_%E0%B0%B9%E0%B0%BF%E0%B0%82%E0%B0%A6%E0%B0%B5%E0%B0%BF_2021_9_%E0%B0%A8%E0%B1%8B%E0%B0%9F%E0%B1%8D%E0%B0%AC%E0%B1%81%E0%B0%95%E0%B1%8D.ipynb\"><img src=\"https://mybinder.org/badge_logo.svg\" alt=\"Open In Colab\" style=\"height:32px; width:160px;\"></a>\n",
        "\n"
      ],
      "execution_count": 2,
      "outputs": [
        {
          "output_type": "display_data",
          "data": {
            "text/html": [
              "<a target=”_blank” href=\"https://mybinder.org/v2/gh/srija-ieee/chintamani/master/?filepath=Notebooks/PY_Import_displayclearing_%E0%B0%A4%E0%B1%86%E0%B0%B2%E0%B1%81%E0%B0%97%E0%B1%81_%E0%B0%B9%E0%B0%BF%E0%B0%82%E0%B0%A6%E0%B0%B5%E0%B0%BF_2021_9_%E0%B0%A8%E0%B1%8B%E0%B0%9F%E0%B1%8D%E0%B0%AC%E0%B1%81%E0%B0%95%E0%B1%8D.ipynb\"><img src=\"https://mybinder.org/badge_logo.svg\" alt=\"Open In Colab\" style=\"height:32px; width:160px;\"></a>\n"
            ],
            "text/plain": [
              "<IPython.core.display.HTML object>"
            ]
          },
          "metadata": {}
        }
      ]
    },
    {
      "cell_type": "markdown",
      "metadata": {
        "id": "XDYyLPCa1mzY"
      },
      "source": [
        "# తెలుగు హిందవి నోట్‌బుక్ పరిచయం\n",
        "# Introduction to Telugu Hindawi Notebook\n"
      ]
    },
    {
      "cell_type": "code",
      "metadata": {
        "colab": {
          "base_uri": "https://localhost:8080/",
          "height": 335
        },
        "id": "zrmDTStc57gQ",
        "outputId": "540342b0-dea6-44d0-f114-8174c62f6676"
      },
      "source": [
        "\n",
        "#@markdown ###### **👈🏾 వీడియో ప్రదర్శించడానికి ప్లే బటన్ (▶) పై క్లిక్ చేయండి 👈🏾**<br>\n",
        "\n",
        "%%html\n",
        "<iframe width=\"560\" height=\"315\" src=\"https://www.youtube.com/embed/4PmQGMq3Kao?rel=0&modestbranding=1&hl=te&autoplay=1&origin=https://colab.research.google.com\" title=\"YouTube video player\" frameborder=\"0\" allow=\"accelerometer; autoplay; clipboard-write; encrypted-media; gyroscope; picture-in-picture\" allowfullscreen></iframe>"
      ],
      "execution_count": null,
      "outputs": [
        {
          "output_type": "display_data",
          "data": {
            "text/html": [
              "<iframe width=\"560\" height=\"315\" src=\"https://www.youtube.com/embed/xYNXY8eWCsw\" title=\"YouTube video player\" frameborder=\"0\" allow=\"accelerometer; autoplay; clipboard-write; encrypted-media; gyroscope; picture-in-picture\" allowfullscreen></iframe>"
            ],
            "text/plain": [
              "<IPython.core.display.HTML object>"
            ]
          },
          "metadata": {}
        }
      ]
    },
    {
      "cell_type": "markdown",
      "metadata": {
        "id": "T-Qua1WBEtvM"
      },
      "source": [
        "# సంస్థాపన(Initialize)\n",
        "\n",
        "ఇది హిందవిని నడపడానికి జూపిటర్ నోట్బుక్ వాతావరణాన్ని అనుమతిస్తుంది. నెమ్మదిగా ఉన్న సిస్టమ్‌లలో దీనికి కొన్ని నిమిషాలు పట్టవచ్చు. చాలా క్లౌడ్ పరిసరాలలో ఇది కొన్ని సెకన్లలో పూర్తవుతుంది.\n",
        "\n",
        "This enables Hindawi in the Jupyter notebook environment. It may take a few minutes on slower systems. On most cloud environments this completes in few seconds.\n",
        "\n",
        "👈 ఈ సెల్‌ని అమలు చేయడానికి ప్లే బటన్‌ని (▶) నొక్కండి"
      ]
    },
    {
      "cell_type": "code",
      "metadata": {
        "id": "fEf5G-CzMb3M",
        "colab": {
          "base_uri": "https://localhost:8080/"
        },
        "outputId": "83300251-674f-4139-9c73-be29795f1764"
      },
      "source": [
        "#@title సంస్థాపన (Installation) { vertical-output: true }\n",
        "#@markdown 👈 ఈ సెల్‌ను ప్లే చేయడానికి బటన్‌ను ప్లే చేయండి (▶) నొక్కండి\n",
        "#@markdown <br>\n",
        "#@markdown ఇతర కణాలను ఉపయోగించటానికి ముందు ఇది కనీసం ఒక్కసారైనా అమలు చేయాలి\n",
        "#@markdown <br>\n",
        "#@markdown This must be run at least once before the other cells can be used\n",
        "%%shell\n",
        " \n",
        "#Installing prerequisites...\n",
        "printf \"ముందస్తు అవసరాలను ఇన్‌స్టాల్ చేస్తోంది ... \"\n",
        "sudo apt install gawk flex bison php-iconv screen &>/dev/null\n",
        "#Done\n",
        "echo \"పూర్తయింది\"\n",
        " \n",
        "printf \"Hindawi2020 రిపోజిటరీ క్లోన్ చేయబడుతోంది... \"\n",
        "git clone https://github.com/hindawiai/chintamani hindawi2020 &>/dev/null\n",
        "#Done\n",
        "echo \"పూర్తయింది\"\n",
        " \n",
        "if [ 0 -lt $(pip3 freeze | grep google.colab | wc -l) ]\n",
        "then\n",
        "  #Executing preamble for non-docker platforms...\n",
        "  echo \"ఉపోద్ఘాతాన్ని అమలు చేస్తోంది\"\n",
        "  cd hindawi2020\n",
        " \n",
        "  git checkout telugu\n",
        "\n",
        "  for n in Romenagri\\\n",
        "          Hindawi/guru Hindawi/hindrv Hindawi/kritrima Hindawi/praatha\\\n",
        "          Hindawi/shabda Hindawi/shraeni Hindawi/wyaaka Hindawi/yantra\\\n",
        "          Hindawi/others/fasm Hindawi/soochee;\n",
        "  do\n",
        "    pushd $n &>/dev/null\n",
        "    #Building in $n...\n",
        "    printf \"$n లో ప్రోగ్రామ్‌ను కంపైల్ చేస్తోంది ... \"\n",
        "    make all &>/dev/null\n",
        "    make install &>/dev/null\n",
        "    make clean_all &>/dev/null\n",
        "    #Done\n",
        "    echo \"పూర్తయింది\"\n",
        "    popd &>/dev/null\n",
        "  done\n",
        "  #Completed preamble for non-docker platforms.\n",
        "  echo \"ముందుమాట పూర్తయింది\"\n",
        "fi\n",
        "#TBD: APCISR not built"
      ],
      "execution_count": null,
      "outputs": [
        {
          "output_type": "stream",
          "name": "stdout",
          "text": [
            "ముందస్తు అవసరాలను ఇన్‌స్టాల్ చేస్తోంది ... పూర్తయింది\n",
            "Hindawi2020 రిపోజిటరీ క్లోన్ చేయబడుతోంది... పూర్తయింది\n",
            "ఉపోద్ఘాతాన్ని అమలు చేస్తోంది\n",
            "Branch 'telugu' set up to track remote branch 'telugu' from 'origin'.\n",
            "Switched to a new branch 'telugu'\n",
            "Romenagri లో ప్రోగ్రామ్‌ను కంపైల్ చేస్తోంది ... పూర్తయింది\n",
            "Hindawi/guru లో ప్రోగ్రామ్‌ను కంపైల్ చేస్తోంది ... పూర్తయింది\n",
            "Hindawi/hindrv లో ప్రోగ్రామ్‌ను కంపైల్ చేస్తోంది ... పూర్తయింది\n",
            "Hindawi/kritrima లో ప్రోగ్రామ్‌ను కంపైల్ చేస్తోంది ... పూర్తయింది\n",
            "Hindawi/praatha లో ప్రోగ్రామ్‌ను కంపైల్ చేస్తోంది ... పూర్తయింది\n",
            "Hindawi/shabda లో ప్రోగ్రామ్‌ను కంపైల్ చేస్తోంది ... పూర్తయింది\n",
            "Hindawi/shraeni లో ప్రోగ్రామ్‌ను కంపైల్ చేస్తోంది ... పూర్తయింది\n",
            "Hindawi/wyaaka లో ప్రోగ్రామ్‌ను కంపైల్ చేస్తోంది ... పూర్తయింది\n",
            "Hindawi/yantra లో ప్రోగ్రామ్‌ను కంపైల్ చేస్తోంది ... పూర్తయింది\n",
            "Hindawi/others/fasm లో ప్రోగ్రామ్‌ను కంపైల్ చేస్తోంది ... పూర్తయింది\n",
            "Hindawi/soochee లో ప్రోగ్రామ్‌ను కంపైల్ చేస్తోంది ... పూర్తయింది\n",
            "ముందుమాట పూర్తయింది\n"
          ]
        },
        {
          "output_type": "execute_result",
          "data": {
            "text/plain": [
              ""
            ]
          },
          "metadata": {},
          "execution_count": 1
        }
      ]
    },
    {
      "cell_type": "markdown",
      "metadata": {
        "id": "L6aQqaL9LFad"
      },
      "source": [
        "# Extending the basic language, Import the display clearing function"
      ]
    },
    {
      "cell_type": "markdown",
      "metadata": {
        "id": "0GHh6DaKOqIH"
      },
      "source": [
        "# సాధన ప్రాంతం (Practice Area)\n"
      ]
    },
    {
      "cell_type": "markdown",
      "metadata": {
        "id": "uuzYR-W7OjKG"
      },
      "source": [
        "# తెలుగులో ఉదాహరణ\n",
        "# Example in Telugu"
      ]
    },
    {
      "cell_type": "code",
      "metadata": {
        "colab": {
          "base_uri": "https://localhost:8080/"
        },
        "id": "JB8eQ_u5Dn0X",
        "outputId": "6770731d-aa96-4fc6-fe24-e8966b27b364"
      },
      "source": [
        "#@title **తెలుగు పైథాన్ యొక్క ప్రోగ్రామ్ ఎడిటింగ్(program editing)**\n",
        "#@markdown సవరించడానికి డబుల్ క్లిక్ చేయండి లేదా __enter__ నొక్కండి\n",
        "#@markdown <br>\n",
        "#@markdown Double-click or press __Enter__ to edit\n",
        "%%writefile hindawi2020/Hindawi/soochee/myPY.uhin\n",
        "# ప్రాథమిక భాషను విస్తరించడం:\n",
        "# బహుముఖ ప్రోగ్రామింగ్ భాషలు ప్రాథమిక భాషగా ఉండటానికి అనుమతిస్తాయి\n",
        "#ముందుగా వ్రాసిన ప్రోగ్రామ్‌లను కలిగి ఉన్న \"లైబ్రరీలు\" ఉపయోగించి పొడిగించబడింది.\n",
        "#పైథాన్‌లో, లైబ్రరీలను ప్యాకేజీలు అని పిలుస్తారు మరియు \"చేర్చబడ్డాయి\"\n",
        "#\"నుండి\" మరియు \"దిగుమతి\" ఆదేశాలను ఉపయోగించి ప్రోగ్రామ్\n",
        "#డిస్‌ప్లే క్లియరింగ్ ఫంక్షన్‌ను దిగుమతి చేయండి\n",
        "నుండి IPython.dఉందిplay దిగుమతి clear_output\n",
        "\n",
        "ముద్రించు(\"ఏదో\")\n",
        "\n",
        "clear_output()\n",
        "\n",
        "ముద్రించు(\"ఏదో కొత్త\")"
      ],
      "execution_count": null,
      "outputs": [
        {
          "output_type": "stream",
          "name": "stdout",
          "text": [
            "Overwriting hindawi2020/Hindawi/soochee/myPY.uhin\n"
          ]
        }
      ]
    },
    {
      "cell_type": "code",
      "metadata": {
        "colab": {
          "base_uri": "https://localhost:8080/",
          "height": 813
        },
        "id": "HsoVPSbCDr6-",
        "outputId": "b5e49566-d39c-4e2a-f677-e6a897c3847a"
      },
      "source": [
        "%%shell\n",
        "#@title ### **స్టైల్ ప్రైమరీ యొక్క ప్రోగ్రామ్ ఎగ్జిక్యూషన్(program execution)**\n",
        "#@markdown ### ఈ నోట్బుక్ యొక్క ఫైల్ బ్రౌజర్ ఉపయోగించి కంపైల్డ్ ప్రోగ్రామ్ను డౌన్‌లోడ్ చేసుకోవచ్చు. ఫైల్ hin.exe\n",
        "#@markdown <br>\n",
        "#Do not edit below this line\n",
        "#ఈ పంక్తి క్రింద సవరించవద్దు\n",
        "cd hindawi2020/Hindawi/soochee/\n",
        "./hinpy myPY.uhin# ప్రాథమిక భాషను విస్తరించడం:\n",
        "# బహుముఖ ప్రోగ్రామింగ్ భాషలు ప్రాథమిక భాషగా ఉండటానికి అనుమతిస్తాయి\n",
        "#ముందుగా వ్రాసిన ప్రోగ్రామ్‌లను కలిగి ఉన్న \"లైబ్రరీలు\" ఉపయోగించి పొడిగించబడింది.\n",
        "#పైథాన్‌లో, లైబ్రరీలను ప్యాకేజీలు అని పిలుస్తారు మరియు \"చేర్చబడ్డాయి\"\n",
        "#\"నుండి\" మరియు \"దిగుమతి\" ఆదేశాలను ఉపయోగించి ప్రోగ్రామ్\n",
        "#డిస్‌ప్లే క్లియరింగ్ ఫంక్షన్‌ను దిగుమతి చేయండి\n",
        "నుండి IPython.display దిగుమతి clear_output\n",
        "\n",
        "ముద్రించు(\"ఏదో\")\n",
        "\n",
        "clear_output()\n",
        "\n",
        "ముద్రించు(\"ఏదో కొత్త\")"
      ],
      "execution_count": null,
      "outputs": [
        {
          "output_type": "stream",
          "name": "stdout",
          "text": [
            "cat: myPY.uhin#: No such file or directory\n",
            "/bin/bash: line 12: నుండి: command not found\n",
            "/bin/bash: -c: line 14: syntax error near unexpected token `\"ఏదో\"'\n",
            "/bin/bash: -c: line 14: `ముద్రించు(\"ఏదో\")'\n"
          ]
        },
        {
          "output_type": "error",
          "ename": "CalledProcessError",
          "evalue": "ignored",
          "traceback": [
            "\u001b[0;31m---------------------------------------------------------------------------\u001b[0m",
            "\u001b[0;31mCalledProcessError\u001b[0m                        Traceback (most recent call last)",
            "\u001b[0;32m<ipython-input-5-c138d3a47935>\u001b[0m in \u001b[0;36m<module>\u001b[0;34m()\u001b[0m\n\u001b[0;32m----> 1\u001b[0;31m \u001b[0mget_ipython\u001b[0m\u001b[0;34m(\u001b[0m\u001b[0;34m)\u001b[0m\u001b[0;34m.\u001b[0m\u001b[0mrun_cell_magic\u001b[0m\u001b[0;34m(\u001b[0m\u001b[0;34m'shell'\u001b[0m\u001b[0;34m,\u001b[0m \u001b[0;34m''\u001b[0m\u001b[0;34m,\u001b[0m \u001b[0;34m'#@title ### **స్టైల్ ప్రైమరీ యొక్క ప్రోగ్రామ్ ఎగ్జిక్యూషన్(program execution)**\\n#@markdown ### ఈ నోట్బుక్ యొక్క ఫైల్ బ్రౌజర్ ఉపయోగించి కంపైల్డ్ ప్రోగ్రామ్ను డౌన్\\u200cలోడ్ చేసుకోవచ్చు. ఫైల్ hin.exe\\n#@markdown <br>\\n#Do not edit below this line\\n#ఈ పంక్తి క్రింద సవరించవద్దు\\ncd hindawi2020/Hindawi/soochee/\\n./hinpy myPY.uhin# ప్రాథమిక భాషను విస్తరించడం:\\n# బహుముఖ ప్రోగ్రామింగ్ భాషలు ప్రాథమిక భాషగా ఉండటానికి అనుమతిస్తాయి\\n#ముందుగా వ్రాసిన ప్రోగ్రామ్\\u200cలను కలిగి ఉన్న \"లైబ్రరీలు\" ఉపయోగించి పొడిగించబడింది.\\n#పైథాన్\\u200cలో, లైబ్రరీలను ప్యాకేజీలు అని పిలుస్తారు మరియు \"చేర్చబడ్డాయి\"\\n#\"నుండి\" మరియు \"దిగుమతి\" ఆదేశాలను ఉపయోగించి ప్రోగ్రామ్\\n#డిస్\\u200cప్లే క్లియరింగ్ ఫంక్షన్\\u200cను దిగుమతి చేయండి\\nనుండి IPython.display దిగుమతి clear_output\\n\\nముద్రించు(\"ఏదో\")\\n\\nclear_output()\\n\\nముద్రించు(\"ఏదో కొత్త\")'\u001b[0m\u001b[0;34m)\u001b[0m\u001b[0;34m\u001b[0m\u001b[0;34m\u001b[0m\u001b[0m\n\u001b[0m",
            "\u001b[0;32m/usr/local/lib/python3.7/dist-packages/IPython/core/interactiveshell.py\u001b[0m in \u001b[0;36mrun_cell_magic\u001b[0;34m(self, magic_name, line, cell)\u001b[0m\n\u001b[1;32m   2115\u001b[0m             \u001b[0mmagic_arg_s\u001b[0m \u001b[0;34m=\u001b[0m \u001b[0mself\u001b[0m\u001b[0;34m.\u001b[0m\u001b[0mvar_expand\u001b[0m\u001b[0;34m(\u001b[0m\u001b[0mline\u001b[0m\u001b[0;34m,\u001b[0m \u001b[0mstack_depth\u001b[0m\u001b[0;34m)\u001b[0m\u001b[0;34m\u001b[0m\u001b[0;34m\u001b[0m\u001b[0m\n\u001b[1;32m   2116\u001b[0m             \u001b[0;32mwith\u001b[0m \u001b[0mself\u001b[0m\u001b[0;34m.\u001b[0m\u001b[0mbuiltin_trap\u001b[0m\u001b[0;34m:\u001b[0m\u001b[0;34m\u001b[0m\u001b[0;34m\u001b[0m\u001b[0m\n\u001b[0;32m-> 2117\u001b[0;31m                 \u001b[0mresult\u001b[0m \u001b[0;34m=\u001b[0m \u001b[0mfn\u001b[0m\u001b[0;34m(\u001b[0m\u001b[0mmagic_arg_s\u001b[0m\u001b[0;34m,\u001b[0m \u001b[0mcell\u001b[0m\u001b[0;34m)\u001b[0m\u001b[0;34m\u001b[0m\u001b[0;34m\u001b[0m\u001b[0m\n\u001b[0m\u001b[1;32m   2118\u001b[0m             \u001b[0;32mreturn\u001b[0m \u001b[0mresult\u001b[0m\u001b[0;34m\u001b[0m\u001b[0;34m\u001b[0m\u001b[0m\n\u001b[1;32m   2119\u001b[0m \u001b[0;34m\u001b[0m\u001b[0m\n",
            "\u001b[0;32m/usr/local/lib/python3.7/dist-packages/google/colab/_system_commands.py\u001b[0m in \u001b[0;36m_shell_cell_magic\u001b[0;34m(args, cmd)\u001b[0m\n\u001b[1;32m    111\u001b[0m   \u001b[0mresult\u001b[0m \u001b[0;34m=\u001b[0m \u001b[0m_run_command\u001b[0m\u001b[0;34m(\u001b[0m\u001b[0mcmd\u001b[0m\u001b[0;34m,\u001b[0m \u001b[0mclear_streamed_output\u001b[0m\u001b[0;34m=\u001b[0m\u001b[0;32mFalse\u001b[0m\u001b[0;34m)\u001b[0m\u001b[0;34m\u001b[0m\u001b[0;34m\u001b[0m\u001b[0m\n\u001b[1;32m    112\u001b[0m   \u001b[0;32mif\u001b[0m \u001b[0;32mnot\u001b[0m \u001b[0mparsed_args\u001b[0m\u001b[0;34m.\u001b[0m\u001b[0mignore_errors\u001b[0m\u001b[0;34m:\u001b[0m\u001b[0;34m\u001b[0m\u001b[0;34m\u001b[0m\u001b[0m\n\u001b[0;32m--> 113\u001b[0;31m     \u001b[0mresult\u001b[0m\u001b[0;34m.\u001b[0m\u001b[0mcheck_returncode\u001b[0m\u001b[0;34m(\u001b[0m\u001b[0;34m)\u001b[0m\u001b[0;34m\u001b[0m\u001b[0;34m\u001b[0m\u001b[0m\n\u001b[0m\u001b[1;32m    114\u001b[0m   \u001b[0;32mreturn\u001b[0m \u001b[0mresult\u001b[0m\u001b[0;34m\u001b[0m\u001b[0;34m\u001b[0m\u001b[0m\n\u001b[1;32m    115\u001b[0m \u001b[0;34m\u001b[0m\u001b[0m\n",
            "\u001b[0;32m/usr/local/lib/python3.7/dist-packages/google/colab/_system_commands.py\u001b[0m in \u001b[0;36mcheck_returncode\u001b[0;34m(self)\u001b[0m\n\u001b[1;32m    137\u001b[0m     \u001b[0;32mif\u001b[0m \u001b[0mself\u001b[0m\u001b[0;34m.\u001b[0m\u001b[0mreturncode\u001b[0m\u001b[0;34m:\u001b[0m\u001b[0;34m\u001b[0m\u001b[0;34m\u001b[0m\u001b[0m\n\u001b[1;32m    138\u001b[0m       raise subprocess.CalledProcessError(\n\u001b[0;32m--> 139\u001b[0;31m           returncode=self.returncode, cmd=self.args, output=self.output)\n\u001b[0m\u001b[1;32m    140\u001b[0m \u001b[0;34m\u001b[0m\u001b[0m\n\u001b[1;32m    141\u001b[0m   \u001b[0;32mdef\u001b[0m \u001b[0m_repr_pretty_\u001b[0m\u001b[0;34m(\u001b[0m\u001b[0mself\u001b[0m\u001b[0;34m,\u001b[0m \u001b[0mp\u001b[0m\u001b[0;34m,\u001b[0m \u001b[0mcycle\u001b[0m\u001b[0;34m)\u001b[0m\u001b[0;34m:\u001b[0m  \u001b[0;31m# pylint:disable=unused-argument\u001b[0m\u001b[0;34m\u001b[0m\u001b[0;34m\u001b[0m\u001b[0m\n",
            "\u001b[0;31mCalledProcessError\u001b[0m: Command '#@title ### **స్టైల్ ప్రైమరీ యొక్క ప్రోగ్రామ్ ఎగ్జిక్యూషన్(program execution)**\n#@markdown ### ఈ నోట్బుక్ యొక్క ఫైల్ బ్రౌజర్ ఉపయోగించి కంపైల్డ్ ప్రోగ్రామ్ను డౌన్‌లోడ్ చేసుకోవచ్చు. ఫైల్ hin.exe\n#@markdown <br>\n#Do not edit below this line\n#ఈ పంక్తి క్రింద సవరించవద్దు\ncd hindawi2020/Hindawi/soochee/\n./hinpy myPY.uhin# ప్రాథమిక భాషను విస్తరించడం:\n# బహుముఖ ప్రోగ్రామింగ్ భాషలు ప్రాథమిక భాషగా ఉండటానికి అనుమతిస్తాయి\n#ముందుగా వ్రాసిన ప్రోగ్రామ్‌లను కలిగి ఉన్న \"లైబ్రరీలు\" ఉపయోగించి పొడిగించబడింది.\n#పైథాన్‌లో, లైబ్రరీలను ప్యాకేజీలు అని పిలుస్తారు మరియు \"చేర్చబడ్డాయి\"\n#\"నుండి\" మరియు \"దిగుమతి\" ఆదేశాలను ఉపయోగించి ప్రోగ్రామ్\n#డిస్‌ప్లే క్లియరింగ్ ఫంక్షన్‌ను దిగుమతి చేయండి\nనుండి IPython.display దిగుమతి clear_output\n\nముద్రించు(\"ఏదో\")\n\nclear_output()\n\nముద్రించు(\"ఏదో కొత్త\")' returned non-zero exit status 1."
          ]
        }
      ]
    },
    {
      "cell_type": "markdown",
      "metadata": {
        "id": "bt7Ovz6nOrWd"
      },
      "source": [
        "# ఆంగ్లంలో ఉదాహరణ (సూచన కోసం)\n",
        "# Example in English (for Ref)"
      ]
    },
    {
      "cell_type": "code",
      "metadata": {
        "id": "47QF5pNmJgpM"
      },
      "source": [
        "#@title **తెలుగు పైథాన్ యొక్క ప్రోగ్రామ్ ఎడిటింగ్(program editing)**\n",
        "#@markdown సవరించడానికి డబుల్ క్లిక్ చేయండి లేదా __enter__ నొక్కండి\n",
        "#@markdown <br>\n",
        "#@markdown Double-click or press __Enter__ to edit\n",
        "%%writefile hindawi2020/Hindawi/soochee/myPY.uhin\n",
        "# write the program here, below this line\n",
        "# Extending the basic language:\n",
        "# Versatile programming languages allow the base language to be\n",
        "# extended using \"libraries\", which consist of prewritten programs.\n",
        "# In Python, libraries are called packages, and are \"included\" in\n",
        "# the program using the commands \"from\" and \"import\"\n",
        "\n",
        "# Import the display clearing function\n",
        "from IPython.display import clear_output\n",
        "\n",
        "print(\"Something\")\n",
        "\n",
        "clear_output()\n",
        "\n",
        "print(\"Something new\") \n"
      ],
      "execution_count": null,
      "outputs": []
    },
    {
      "cell_type": "code",
      "metadata": {
        "id": "qoCVGZ2tKNW3"
      },
      "source": [
        "%%shell\n",
        "#@title ### **స్టైల్ ప్రైమరీ యొక్క ప్రోగ్రామ్ ఎగ్జిక్యూషన్(program execution)**\n",
        "#@markdown ### ఈ నోట్బుక్ యొక్క ఫైల్ బ్రౌజర్ ఉపయోగించి కంపైల్డ్ ప్రోగ్రామ్ను డౌన్‌లోడ్ చేసుకోవచ్చు. ఫైల్ hin.exe\n",
        "#@markdown <br>\n",
        "#Do not edit below this line\n",
        "#ఈ పంక్తి క్రింద సవరించవద్దు\n",
        "cd hindawi2020/Hindawi/soochee/\n",
        "./hinpy myPY.uhin"
      ],
      "execution_count": null,
      "outputs": []
    },
    {
      "cell_type": "markdown",
      "metadata": {
        "id": "pBkeIpuUxpjT"
      },
      "source": [
        ""
      ]
    },
    {
      "cell_type": "markdown",
      "metadata": {
        "id": "ukabEuhlyhZo"
      },
      "source": [
        "\n",
        "# [Click Here](https://colab.research.google.com/drive/10e4aKiddNYz8GT17U1VwxTy-rAmM0Qkx?usp=sharing) for the Next lesson (clear output before printing)\n",
        "\n",
        "#తదుపరి పాఠం కోసం (ముద్రణకు ముందు అవుట్‌పుట్‌ను క్లియర్ చేయండి)[ ఇక్కడ క్లిక్ ](https://colab.research.google.com/drive/10e4aKiddNYz8GT17U1VwxTy-rAmM0Qkx?usp=sharing)చేయండి "
      ]
    },
    {
      "cell_type": "markdown",
      "metadata": {
        "id": "R_33KyYql-pO"
      },
      "source": [
        "# తెలుగులో పైథాన్‌పై కోర్సు (Course on Python in Telugu)"
      ]
    },
    {
      "cell_type": "code",
      "metadata": {
        "id": "MlYgJf4_l2uZ"
      },
      "source": [
        "#@title ఇక్కడ నమోదు చేసుకోండి (Enroll here)\n",
        "\n",
        "## Lesson\n",
        "#@markdown ###### **👈🏾 కంటెంట్ ప్రదర్శించడానికి ప్లే బటన్ (▶) పై క్లిక్ చేయండి 👈🏾**<br>\n",
        "#@markdown ##### దయచేసి మీ Gmail ఉపయోగించి తదుపరి సెల్‌లో పొందుపరిచిన కోర్సులో నమోదు చేసుకోండి\n",
        "\n",
        "#@markdown ###### **👈🏾 Click on ( ▶ ) the play button to display content 👈🏾**<br>\n",
        "#@markdown ##### Please register on the course embedded in the next cell using your Gmail \n",
        "from IPython.display import IFrame\n",
        "\n",
        "IFrame('https://ayeai.xyz/site/','1000','800')"
      ],
      "execution_count": null,
      "outputs": []
    }
  ]
}
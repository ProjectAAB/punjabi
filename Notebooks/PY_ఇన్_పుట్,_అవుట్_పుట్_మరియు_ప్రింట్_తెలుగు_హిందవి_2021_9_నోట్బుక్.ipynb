{
  "nbformat": 4,
  "nbformat_minor": 0,
  "metadata": {
    "kernelspec": {
      "display_name": "Python 3",
      "language": "python",
      "name": "python3"
    },
    "language_info": {
      "codemirror_mode": {
        "name": "ipython",
        "version": 3
      },
      "file_extension": ".py",
      "mimetype": "text/x-python",
      "name": "python",
      "nbconvert_exporter": "python",
      "pygments_lexer": "ipython3",
      "version": "3.8.2"
    },
    "colab": {
      "name": "PY_ఇన్‌పుట్, అవుట్‌పుట్ మరియు ప్రింట్ - తెలుగు హిందవి 2021.9 నోట్బుక్",
      "provenance": [],
      "collapsed_sections": [
        "yYc5p2xhYS7i",
        "T-Qua1WBEtvM"
      ]
    }
  },
  "cells": [
    {
      "cell_type": "markdown",
      "metadata": {
        "id": "p294gsLmfrBa"
      },
      "source": [
        "# **హిందవి ప్రస్తారణ వ్యవస్థ** 2021.9 \n",
        "\n",
        "Hindawi Programming System 2021.9<br>\n",
        "Copyright (C) 2004-2021 Abhishek Choudhary, <br>\n",
        "AyeSPL license. NO WARRANTY.\n"
      ]
    },
    {
      "cell_type": "markdown",
      "metadata": {
        "id": "lQ_WSuz3xiYg"
      },
      "source": [
        "### ***ఈ నోట్‌బుక్‌ను అమలు చేయడానికి క్రింది బటన్‌లలో ఒకదానిపై  రైట్  క్లిక్ చేసి, న్యూ ట్యాబ్‌లో ఓపెన్ చేయండి***\n",
        "\n",
        "\n",
        "### ***To run this notebook right click on one of the buttons below and open in a new tab***"
      ]
    },
    {
      "cell_type": "code",
      "metadata": {
        "cellView": "form",
        "id": "uwiyUMBnxjY3",
        "outputId": "86fc3a7e-bf1e-4198-98ee-b8be40d2f1c4",
        "colab": {
          "base_uri": "https://localhost:8080/",
          "height": 53
        }
      },
      "source": [
        "#@title Click on the button below\n",
        "%%html\n",
        "<a target=”_blank” href=\"https://colab.research.google.com/github/srija-ieee/chintamani/blob/master/Notebooks/PY_%E0%B0%87%E0%B0%A8%E0%B1%8D_%E0%B0%AA%E0%B1%81%E0%B0%9F%E0%B1%8D%2C_%E0%B0%85%E0%B0%B5%E0%B1%81%E0%B0%9F%E0%B1%8D_%E0%B0%AA%E0%B1%81%E0%B0%9F%E0%B1%8D_%E0%B0%AE%E0%B0%B0%E0%B0%BF%E0%B0%AF%E0%B1%81_%E0%B0%AA%E0%B1%8D%E0%B0%B0%E0%B0%BF%E0%B0%82%E0%B0%9F%E0%B1%8D_%E0%B0%A4%E0%B1%86%E0%B0%B2%E0%B1%81%E0%B0%97%E0%B1%81_%E0%B0%B9%E0%B0%BF%E0%B0%82%E0%B0%A6%E0%B0%B5%E0%B0%BF_2021_9_%E0%B0%A8%E0%B1%8B%E0%B0%9F%E0%B1%8D%E0%B0%AC%E0%B1%81%E0%B0%95%E0%B1%8D.ipynb\"><img src=\"https://colab.research.google.com/assets/colab-badge.svg\" alt=\"Open In Colab\" style=\"height:32px; width:160px;\"></a>\n",
        "\n"
      ],
      "execution_count": 1,
      "outputs": [
        {
          "output_type": "display_data",
          "data": {
            "text/html": [
              "<a target=”_blank” href=\"https://colab.research.google.com/github/srija-ieee/chintamani/blob/master/Notebooks/PY_%E0%B0%87%E0%B0%A8%E0%B1%8D_%E0%B0%AA%E0%B1%81%E0%B0%9F%E0%B1%8D%2C_%E0%B0%85%E0%B0%B5%E0%B1%81%E0%B0%9F%E0%B1%8D_%E0%B0%AA%E0%B1%81%E0%B0%9F%E0%B1%8D_%E0%B0%AE%E0%B0%B0%E0%B0%BF%E0%B0%AF%E0%B1%81_%E0%B0%AA%E0%B1%8D%E0%B0%B0%E0%B0%BF%E0%B0%82%E0%B0%9F%E0%B1%8D_%E0%B0%A4%E0%B1%86%E0%B0%B2%E0%B1%81%E0%B0%97%E0%B1%81_%E0%B0%B9%E0%B0%BF%E0%B0%82%E0%B0%A6%E0%B0%B5%E0%B0%BF_2021_9_%E0%B0%A8%E0%B1%8B%E0%B0%9F%E0%B1%8D%E0%B0%AC%E0%B1%81%E0%B0%95%E0%B1%8D.ipynb\"><img src=\"https://colab.research.google.com/assets/colab-badge.svg\" alt=\"Open In Colab\" style=\"height:32px; width:160px;\"></a>\n"
            ],
            "text/plain": [
              "<IPython.core.display.HTML object>"
            ]
          },
          "metadata": {}
        }
      ]
    },
    {
      "cell_type": "code",
      "metadata": {
        "cellView": "form",
        "id": "hWevNBfRxtVb",
        "outputId": "aa24be59-7f28-4ac8-f769-3a364e072512",
        "colab": {
          "base_uri": "https://localhost:8080/",
          "height": 53
        }
      },
      "source": [
        "#@title Click on the button below\n",
        "%%html\n",
        "<a target=”_blank” href=\"https://mybinder.org/v2/gh/srija-ieee/chintamani/master/?filepath=Notebooks/PY_%E0%B0%87%E0%B0%A8%E0%B1%8D_%E0%B0%AA%E0%B1%81%E0%B0%9F%E0%B1%8D%2C_%E0%B0%85%E0%B0%B5%E0%B1%81%E0%B0%9F%E0%B1%8D_%E0%B0%AA%E0%B1%81%E0%B0%9F%E0%B1%8D_%E0%B0%AE%E0%B0%B0%E0%B0%BF%E0%B0%AF%E0%B1%81_%E0%B0%AA%E0%B1%8D%E0%B0%B0%E0%B0%BF%E0%B0%82%E0%B0%9F%E0%B1%8D_%E0%B0%A4%E0%B1%86%E0%B0%B2%E0%B1%81%E0%B0%97%E0%B1%81_%E0%B0%B9%E0%B0%BF%E0%B0%82%E0%B0%A6%E0%B0%B5%E0%B0%BF_2021_9_%E0%B0%A8%E0%B1%8B%E0%B0%9F%E0%B1%8D%E0%B0%AC%E0%B1%81%E0%B0%95%E0%B1%8D.ipynb\"><img src=\"https://mybinder.org/badge_logo.svg\" alt=\"Open In Colab\" style=\"height:32px; width:160px;\"></a>\n",
        "\n"
      ],
      "execution_count": 2,
      "outputs": [
        {
          "output_type": "display_data",
          "data": {
            "text/html": [
              "<a target=”_blank” href=\"https://mybinder.org/v2/gh/srija-ieee/chintamani/master/?filepath=Notebooks/PY_%E0%B0%87%E0%B0%A8%E0%B1%8D_%E0%B0%AA%E0%B1%81%E0%B0%9F%E0%B1%8D%2C_%E0%B0%85%E0%B0%B5%E0%B1%81%E0%B0%9F%E0%B1%8D_%E0%B0%AA%E0%B1%81%E0%B0%9F%E0%B1%8D_%E0%B0%AE%E0%B0%B0%E0%B0%BF%E0%B0%AF%E0%B1%81_%E0%B0%AA%E0%B1%8D%E0%B0%B0%E0%B0%BF%E0%B0%82%E0%B0%9F%E0%B1%8D_%E0%B0%A4%E0%B1%86%E0%B0%B2%E0%B1%81%E0%B0%97%E0%B1%81_%E0%B0%B9%E0%B0%BF%E0%B0%82%E0%B0%A6%E0%B0%B5%E0%B0%BF_2021_9_%E0%B0%A8%E0%B1%8B%E0%B0%9F%E0%B1%8D%E0%B0%AC%E0%B1%81%E0%B0%95%E0%B1%8D.ipynb\"><img src=\"https://mybinder.org/badge_logo.svg\" alt=\"Open In Colab\" style=\"height:32px; width:160px;\"></a>\n"
            ],
            "text/plain": [
              "<IPython.core.display.HTML object>"
            ]
          },
          "metadata": {}
        }
      ]
    },
    {
      "cell_type": "markdown",
      "metadata": {
        "id": "XDYyLPCa1mzY"
      },
      "source": [
        "# తెలుగు హిందవి నోట్‌బుక్ పరిచయం\n",
        "# Introduction to Telugu Hindawi Notebook\n"
      ]
    },
    {
      "cell_type": "code",
      "metadata": {
        "colab": {
          "base_uri": "https://localhost:8080/",
          "height": 335
        },
        "id": "zrmDTStc57gQ",
        "outputId": "16ef95f3-b2ad-42c3-ef9f-aed4b7da6a5b"
      },
      "source": [
        "\n",
        "#@markdown ###### **👈🏾 వీడియో ప్రదర్శించడానికి ప్లే బటన్ (▶) పై క్లిక్ చేయండి 👈🏾**<br>\n",
        "\n",
        "%%html\n",
        "<iframe width=\"560\" height=\"315\" src=\"https://www.youtube.com/embed/xYNXY8eWCsw\" title=\"YouTube video player\" frameborder=\"0\" allow=\"accelerometer; autoplay; clipboard-write; encrypted-media; gyroscope; picture-in-picture\" allowfullscreen></iframe>"
      ],
      "execution_count": null,
      "outputs": [
        {
          "output_type": "display_data",
          "data": {
            "text/html": [
              "<iframe width=\"560\" height=\"315\" src=\"https://www.youtube.com/embed/xYNXY8eWCsw\" title=\"YouTube video player\" frameborder=\"0\" allow=\"accelerometer; autoplay; clipboard-write; encrypted-media; gyroscope; picture-in-picture\" allowfullscreen></iframe>"
            ],
            "text/plain": [
              "<IPython.core.display.HTML object>"
            ]
          },
          "metadata": {}
        }
      ]
    },
    {
      "cell_type": "markdown",
      "metadata": {
        "id": "yYc5p2xhYS7i"
      },
      "source": [
        "## హిందీపై పరిచయం(Introduction to Hindawi)\n",
        "**హిందవి ప్రోగ్రామింగ్ సిస్టమ్ మాతృభాషలో ప్రాధమిక స్థాయి నుండి గేట్ కంప్యూటర్ ఇంజనీరింగ్ ([GATE CSE](https://gate.iitb.ac.in/syllabi.php)) స్థాయి వరకు ప్రోగ్రామింగ్‌ను అనుమతిస్తుంది. సూపర్ కంప్యూటింగ్ [సూపర్కంప్యూటింగ్](https://hi.wikipedia.org/wiki/%E0%A4%AE%E0%A4%B9%E0%A4%BE%E0%A4%B8%E0%A4%82%E0%A4%97%E0%A4%A3%E0%A4%95) (HPC),  ఐఒటి(IoT), క్వాంటం కంప్యూటింగ్ మరియు డిఎన్‌ఎ కంప్యూటింగ్  ([DNA computing](https://en.wikipedia.org/wiki/DNA_computing)) పరిశోధన మరియు ప్రోగ్రామింగ్ కూడా హిందవి ఉపయోగించి మాతృభాషలో సాధ్యమే. ఇది కల కాదు - ఇది నిజం!  దీన్ని ఇప్పుడు ఆన్‌లైన్‌లో ధృవీకరించండి. రండి సాంకేతిక విభజన(digital divide), అభిజ్ఞా విభజన (cognitive divide - మాతృభాషను ఉపయోగించి AI ని అభివృద్ధి చేయలేకపోవడం) లేదా భాషా విభజన (linguistic divide) లేకుండా సాంకేతిక ఏకవచన (technical singularity) ప్రయాణాన్ని పూర్తి చేద్దాం. \n",
        "\n",
        "**డిస్క్లైమర్ **: హిందవి ప్రోగ్రామింగ్ సిస్టమ్ యొక్క పరిపూర్ణతకు సూచనగా మాత్రమే గేట్ ప్రస్తావించబడింది. గేట్ పరీక్షల నిర్వాహణతో మాకు ఎటువంటి సంబంధం లేదు. 2021 వరకు గేట్ సిఎస్ఇ ప్రోగ్రామింగ్ భాషల ప్రామాణిక వైవిధ్యాలను మాత్రమే ఉపయోగిస్తుంది మరియు తెలుగు వెర్షన్ కాదు. ఈ యుటిలిటీ రచయితలచే బాహ్య లింక్‌లు నియంత్రించబడవు.\n",
        "\n"
      ]
    },
    {
      "cell_type": "markdown",
      "metadata": {
        "id": "FIS6ImgwoUKp"
      },
      "source": [
        "Hindawi Programming System makes programming feasible in mother tongue from primary levels to GATE Computer Engineering level. Research and programming is feasible using Hindawi in supercomputing, IoT, robotics, artificial intelligence, quantum computing and also DNA computing is possible in mother tongue. This is not a dream - its a reality! Verify it online right now. Lets approach the technological singularity without any digital divide, cognitive divide (inability of developing AI using mother tongue), or linguistic divide.\n",
        "\n",
        "Disclaimer: GATE is only mentioned with reference to the completeness of Hindawi Programming System. We are not associated with conduct of the GATE examinations. As of 2021 GATE CSE only uses the standard forms of the programming languages and not the Hindi version. External links are not controlled by the authors of this utility."
      ]
    },
    {
      "cell_type": "markdown",
      "metadata": {
        "id": "T-Qua1WBEtvM"
      },
      "source": [
        "# సంస్థాపన(Initialize)\n",
        "\n",
        "ఇది హిందవిని నడపడానికి జూపిటర్ నోట్బుక్ వాతావరణాన్ని అనుమతిస్తుంది. నెమ్మదిగా ఉన్న సిస్టమ్‌లలో దీనికి కొన్ని నిమిషాలు పట్టవచ్చు. చాలా క్లౌడ్ పరిసరాలలో ఇది కొన్ని సెకన్లలో పూర్తవుతుంది.\n",
        "\n",
        "This enables Hindawi in the Jupyter notebook environment. It may take a few minutes on slower systems. On most cloud environments this completes in few seconds.\n",
        "\n",
        "👈 ఈ సెల్‌ని అమలు చేయడానికి ప్లే బటన్‌ని (▶) నొక్కండి"
      ]
    },
    {
      "cell_type": "code",
      "metadata": {
        "id": "fEf5G-CzMb3M",
        "colab": {
          "base_uri": "https://localhost:8080/"
        },
        "outputId": "3bbb875a-dde1-4c6e-fac9-eff7e982530e"
      },
      "source": [
        "#@title సంస్థాపన (Installation) { vertical-output: true }\n",
        "#@markdown 👈 ఈ సెల్‌ను ప్లే చేయడానికి బటన్‌ను ప్లే చేయండి (▶) నొక్కండి\n",
        "#@markdown <br>\n",
        "#@markdown ఇతర కణాలను ఉపయోగించటానికి ముందు ఇది కనీసం ఒక్కసారైనా అమలు చేయాలి\n",
        "#@markdown <br>\n",
        "#@markdown This must be run at least once before the other cells can be used\n",
        "%%shell\n",
        " \n",
        "#Installing prerequisites...\n",
        "printf \"ముందస్తు అవసరాలను ఇన్‌స్టాల్ చేస్తోంది ... \"\n",
        "sudo apt install gawk flex bison php-iconv screen &>/dev/null\n",
        "#Done\n",
        "echo \"పూర్తయింది\"\n",
        " \n",
        "printf \"Hindawi2020 రిపోజిటరీ క్లోన్ చేయబడుతోంది... \"\n",
        "git clone https://github.com/hindawiai/chintamani hindawi2020 &>/dev/null\n",
        "#Done\n",
        "echo \"పూర్తయింది\"\n",
        " \n",
        "if [ 0 -lt $(pip3 freeze | grep google.colab | wc -l) ]\n",
        "then\n",
        "  #Executing preamble for non-docker platforms...\n",
        "  echo \"ఉపోద్ఘాతాన్ని అమలు చేస్తోంది\"\n",
        "  cd hindawi2020\n",
        " \n",
        "  git checkout telugu\n",
        "\n",
        "  for n in Romenagri\\\n",
        "          Hindawi/guru Hindawi/hindrv Hindawi/kritrima Hindawi/praatha\\\n",
        "          Hindawi/shabda Hindawi/shraeni Hindawi/wyaaka Hindawi/yantra\\\n",
        "          Hindawi/others/fasm Hindawi/soochee;\n",
        "  do\n",
        "    pushd $n &>/dev/null\n",
        "    #Building in $n...\n",
        "    printf \"$n లో ప్రోగ్రామ్‌ను కంపైల్ చేస్తోంది ... \"\n",
        "    make all &>/dev/null\n",
        "    make install &>/dev/null\n",
        "    make clean_all &>/dev/null\n",
        "    #Done\n",
        "    echo \"పూర్తయింది\"\n",
        "    popd &>/dev/null\n",
        "  done\n",
        "  #Completed preamble for non-docker platforms.\n",
        "  echo \"ముందుమాట పూర్తయింది\"\n",
        "fi\n",
        "#TBD: APCISR not built"
      ],
      "execution_count": null,
      "outputs": [
        {
          "output_type": "stream",
          "name": "stdout",
          "text": [
            "ముందస్తు అవసరాలను ఇన్‌స్టాల్ చేస్తోంది ... పూర్తయింది\n",
            "Hindawi2020 రిపోజిటరీ క్లోన్ చేయబడుతోంది... పూర్తయింది\n",
            "ఉపోద్ఘాతాన్ని అమలు చేస్తోంది\n",
            "D\tHindawi/guru/c2h\n",
            "D\tHindawi/guru/c2h.lex\n",
            "D\tHindawi/guru/h2c\n",
            "D\tHindawi/guru/h2c.lex\n",
            "D\tHindawi/guru/lexyy.c\n",
            "D\tHindawi/soochee/h2py\n",
            "D\tHindawi/soochee/h2py.lex\n",
            "M\tHindawi/soochee/hintmp.py\n",
            "D\tHindawi/soochee/lexyy.c\n",
            "D\tHindawi/soochee/py2h\n",
            "D\tHindawi/soochee/py2h.lex\n",
            "D\tRomenagri/acii2cf\n",
            "D\tRomenagri/acii2hin\n",
            "D\tRomenagri/acii2hin.o\n",
            "D\tRomenagri/acii2pcf\n",
            "D\tRomenagri/acii2rmn\n",
            "D\tRomenagri/acii2rmn.o\n",
            "D\tRomenagri/acii2uni\n",
            "D\tRomenagri/fixuninum\n",
            "D\tRomenagri/lexyy.c\n",
            "D\tRomenagri/librmnagri.a\n",
            "D\tRomenagri/main.o\n",
            "D\tRomenagri/rmn2acii\n",
            "D\tRomenagri/rmn2acii.o\n",
            "D\tRomenagri/stack.o\n",
            "D\tRomenagri/testme\n",
            "D\tRomenagri/uni2acii\n",
            "Already on 'telugu'\n",
            "Your branch is up to date with 'origin/telugu'.\n",
            "Romenagri లో ప్రోగ్రామ్‌ను కంపైల్ చేస్తోంది ... పూర్తయింది\n",
            "Hindawi/guru లో ప్రోగ్రామ్‌ను కంపైల్ చేస్తోంది ... పూర్తయింది\n",
            "Hindawi/hindrv లో ప్రోగ్రామ్‌ను కంపైల్ చేస్తోంది ... పూర్తయింది\n",
            "Hindawi/kritrima లో ప్రోగ్రామ్‌ను కంపైల్ చేస్తోంది ... పూర్తయింది\n",
            "Hindawi/praatha లో ప్రోగ్రామ్‌ను కంపైల్ చేస్తోంది ... పూర్తయింది\n",
            "Hindawi/shabda లో ప్రోగ్రామ్‌ను కంపైల్ చేస్తోంది ... పూర్తయింది\n",
            "Hindawi/shraeni లో ప్రోగ్రామ్‌ను కంపైల్ చేస్తోంది ... పూర్తయింది\n",
            "Hindawi/wyaaka లో ప్రోగ్రామ్‌ను కంపైల్ చేస్తోంది ... పూర్తయింది\n",
            "Hindawi/yantra లో ప్రోగ్రామ్‌ను కంపైల్ చేస్తోంది ... పూర్తయింది\n",
            "Hindawi/others/fasm లో ప్రోగ్రామ్‌ను కంపైల్ చేస్తోంది ... పూర్తయింది\n",
            "Hindawi/soochee లో ప్రోగ్రామ్‌ను కంపైల్ చేస్తోంది ... పూర్తయింది\n",
            "ముందుమాట పూర్తయింది\n"
          ]
        },
        {
          "output_type": "execute_result",
          "data": {
            "text/plain": [
              ""
            ]
          },
          "metadata": {},
          "execution_count": 44
        }
      ]
    },
    {
      "cell_type": "markdown",
      "metadata": {
        "id": "L6aQqaL9LFad"
      },
      "source": [
        "# \"పైథాన్‌లో ఇన్‌పుట్, అవుట్‌పుట్ మరియు ప్రింట్\" (\"Input, Output and Print in Python\")"
      ]
    },
    {
      "cell_type": "code",
      "metadata": {
        "id": "yn6T0cS0PPMK",
        "colab": {
          "base_uri": "https://localhost:8080/",
          "height": 335
        },
        "outputId": "651356f3-e7a1-40d1-d1dd-bd88411b213e"
      },
      "source": [
        "\n",
        "#@markdown ###### **👈🏾 వీడియో ప్రదర్శించడానికి ప్లే బటన్ (▶) పై క్లిక్ చేయండి 👈🏾**<br>\n",
        "\n",
        "%%html\n",
        "<iframe width=\"560\" height=\"315\" src=\"https://www.youtube.com/embed/EP0cHLAuln0?start=3\" title=\"YouTube video player\" frameborder=\"0\" allow=\"accelerometer; autoplay; clipboard-write; encrypted-media; gyroscope; picture-in-picture\" allowfullscreen></iframe>"
      ],
      "execution_count": null,
      "outputs": [
        {
          "output_type": "display_data",
          "data": {
            "text/html": [
              "<iframe width=\"560\" height=\"315\" src=\"https://www.youtube.com/embed/EP0cHLAuln0?start=3\" title=\"YouTube video player\" frameborder=\"0\" allow=\"accelerometer; autoplay; clipboard-write; encrypted-media; gyroscope; picture-in-picture\" allowfullscreen></iframe>"
            ],
            "text/plain": [
              "<IPython.core.display.HTML object>"
            ]
          },
          "metadata": {}
        }
      ]
    },
    {
      "cell_type": "markdown",
      "metadata": {
        "id": "R_33KyYql-pO"
      },
      "source": [
        "# తెలుగులో పైథాన్‌పై కోర్సు (Course on Python in Telugu)"
      ]
    },
    {
      "cell_type": "code",
      "metadata": {
        "colab": {
          "base_uri": "https://localhost:8080/",
          "height": 821
        },
        "id": "MlYgJf4_l2uZ",
        "outputId": "d5b86323-fd85-4c97-e150-0260139d76f1"
      },
      "source": [
        "#@title ఇక్కడ నమోదు చేసుకోండి (Enroll here)\n",
        "\n",
        "## Lesson\n",
        "#@markdown ###### **👈🏾 కంటెంట్ ప్రదర్శించడానికి ప్లే బటన్ (▶) పై క్లిక్ చేయండి 👈🏾**<br>\n",
        "#@markdown ##### దయచేసి మీ Gmail ఉపయోగించి తదుపరి సెల్‌లో పొందుపరిచిన కోర్సులో నమోదు చేసుకోండి\n",
        "\n",
        "#@markdown ###### **👈🏾 Click on ( ▶ ) the play button to display content 👈🏾**<br>\n",
        "#@markdown ##### Please register on the course embedded in the next cell using your Gmail \n",
        "from IPython.display import IFrame\n",
        "\n",
        "IFrame('https://ayeai.xyz/site/','1000','800')"
      ],
      "execution_count": null,
      "outputs": [
        {
          "output_type": "execute_result",
          "data": {
            "text/html": [
              "\n",
              "        <iframe\n",
              "            width=\"1000\"\n",
              "            height=\"800\"\n",
              "            src=\"https://ayeai.xyz/site/\"\n",
              "            frameborder=\"0\"\n",
              "            allowfullscreen\n",
              "        ></iframe>\n",
              "        "
            ],
            "text/plain": [
              "<IPython.lib.display.IFrame at 0x7f707be1b710>"
            ]
          },
          "metadata": {},
          "execution_count": 2
        }
      ]
    },
    {
      "cell_type": "markdown",
      "metadata": {
        "id": "0GHh6DaKOqIH"
      },
      "source": [
        "# సాధన ప్రాంతం (Practice Area)\n"
      ]
    },
    {
      "cell_type": "markdown",
      "metadata": {
        "id": "G8rn72FkE3az"
      },
      "source": [
        "## \"ప్రింట్\" కమాండ్‌పై ఉదాహరణ ప్రోగ్రామ్ (Example program for \"print\" command)\n",
        "\n",
        "తెలుగు పైథాన్ లో \"ప్రింట్\" కీవర్డ్ \"ముద్రించు\" గా అనువదించబడింది \n",
        "In telugu python \"print\" keyword is translated to \"ముద్రించు\""
      ]
    },
    {
      "cell_type": "code",
      "metadata": {
        "colab": {
          "base_uri": "https://localhost:8080/"
        },
        "id": "47QF5pNmJgpM",
        "outputId": "b8516bfc-d9c3-44a1-bd9c-5c18b2f5d9b3"
      },
      "source": [
        "#@title **తెలుగు పైథాన్ యొక్క ప్రోగ్రామ్ ఎడిటింగ్(program editing)**\n",
        "#@markdown సవరించడానికి డబుల్ క్లిక్ చేయండి లేదా __enter__ నొక్కండి\n",
        "#@markdown <br>\n",
        "#@markdown Double-click or press __Enter__ to edit\n",
        "%%writefile hindawi2020/Hindawi/soochee/myPY.uhin\n",
        "# ఈ లైన్ క్రింద మీ కోడ్ రాయండి\n",
        "#Input/output/print. \n",
        "\n",
        "# కంప్యూటర్ తీసుకునే సమాచారాన్ని \"ఇన్పుట్\" అంటాము అది ప్రాసెస్ చేసి ఇచ్చిన ఫలితాన్ని \"ఔట్పుట్\" అంటాము\n",
        "# ప్రోరోరోగ్రాం యొక్క ఔట్పుట్ ని మనకు కనిపించే విధంగా స్క్రీన్ పైన ముద్రించమని తెలుపడానికి \"ప్రింట్\" వాడుతాము \n",
        "# The information recieved by the computer is \"input\" and the results it \n",
        "# displays after processing is output. To make computer display an output we \n",
        "# use the command \"Print\"\n",
        "\n",
        "#ఉదాహరణ:\n",
        "#Example:\n",
        "ముద్రించు(\"ఇది, నమూనా, అవుట్‌పుట్\")\n",
        "\n",
        "\n",
        "# కాన్సెప్ట్ నోట్:\n",
        "# కొంత సమాచారాన్ని \"ప్రింట్\" చేయడం అంటే ఆ సమాచారాన్ని డిస్‌ప్లేలో outputట్‌పుట్ చేయడం.\n",
        "# సాంప్రదాయకంగా, IO ఉపయోగించిన ప్రింటర్‌ల కోసం కంప్యూటర్ ఇంటర్‌ఫేస్‌లు. అందువల్ల, ఒకవేళ కూడా\n",
        "# సమాచారం మానిటర్, వంటి వీడియో స్క్రీన్‌లో ప్రదర్శించబడుతుంది\n",
        "# ఆదేశం దానిని ముద్రించడమే\n",
        "# Concept note:\n",
        "# To \"print\" some information is to output that information on a display.\n",
        "# Traditionally, computer interfaces for IO used printers. Hence, even if\n",
        "# the information is displayed on a video screen such as a monitor, the \n",
        "# command is to print it\n",
        "\n",
        "\n",
        "\n",
        "# పైథాన్‌లో కొంత సమాచారాన్ని ముద్రించడానికి, \"ప్రింట్\" ఆదేశాన్ని ఉపయోగించండి\n",
        "# To print some information in Python, use the command \"print\"\n",
        "\n",
        "\n"
      ],
      "execution_count": null,
      "outputs": [
        {
          "output_type": "stream",
          "name": "stdout",
          "text": [
            "Overwriting hindawi2020/Hindawi/soochee/myPY.uhin\n"
          ]
        }
      ]
    },
    {
      "cell_type": "code",
      "metadata": {
        "colab": {
          "base_uri": "https://localhost:8080/"
        },
        "id": "qoCVGZ2tKNW3",
        "cellView": "form",
        "outputId": "0f04557d-9504-44a5-b5db-521bdbc1348b"
      },
      "source": [
        "%%shell\n",
        "#@title ### **స్టైల్ ప్రైమరీ యొక్క ప్రోగ్రామ్ ఎగ్జిక్యూషన్(program execution)**\n",
        "#@markdown ### ఈ నోట్బుక్ యొక్క ఫైల్ బ్రౌజర్ ఉపయోగించి కంపైల్డ్ ప్రోగ్రామ్ను డౌన్‌లోడ్ చేసుకోవచ్చు. ఫైల్ hin.exe\n",
        "#@markdown <br>\n",
        "#Do not edit below this line\n",
        "#ఈ పంక్తి క్రింద సవరించవద్దు\n",
        "cd hindawi2020/Hindawi/soochee/\n",
        "./hinpy myPY.uhin"
      ],
      "execution_count": null,
      "outputs": [
        {
          "output_type": "stream",
          "name": "stdout",
          "text": [
            "ఇది, నమूనా, అవుట్\fపుట్\n"
          ]
        },
        {
          "output_type": "execute_result",
          "data": {
            "text/plain": [
              ""
            ]
          },
          "metadata": {},
          "execution_count": 48
        }
      ]
    },
    {
      "cell_type": "markdown",
      "metadata": {
        "id": "utA4hZ7_BFgN"
      },
      "source": [
        "# హిందవి వెబ్‌సైట్‌ను సందర్శించండి\n",
        "# Visit Hindawi website \n",
        "హిండవి ప్రోగ్రామింగ్ సిస్టమ్ గురించి మరిన్ని అప్‌డేట్‌ల కోసం https://hindawiai.github.io/ ని సందర్శించండి\n",
        "For more updates on Hindawi Programming System visit https://hindawiai.github.io/"
      ]
    },
    {
      "cell_type": "code",
      "metadata": {
        "colab": {
          "base_uri": "https://localhost:8080/",
          "height": 445
        },
        "id": "hP7jjq5eAIsf",
        "outputId": "c63b7bf8-39f9-47f1-e94c-14451900d1a8"
      },
      "source": [
        "\n",
        "#@markdown ###### **👈🏾 వీడియో ప్రదర్శించడానికి ప్లే బటన్ (▶) పై క్లిక్ చేయండి 👈🏾**<br>\n",
        "\n",
        "%%html\n",
        "<iframe width=\"1100\" height=\"400\" src=\"https://hindawiai.github.io/\" allowfullscreen></iframe>"
      ],
      "execution_count": null,
      "outputs": [
        {
          "output_type": "display_data",
          "data": {
            "text/html": [
              "<iframe width=\"1100\" height=\"400\" src=\"https://hindawiai.github.io/\" allowfullscreen></iframe>"
            ],
            "text/plain": [
              "<IPython.core.display.HTML object>"
            ]
          },
          "metadata": {}
        }
      ]
    }
  ]
}